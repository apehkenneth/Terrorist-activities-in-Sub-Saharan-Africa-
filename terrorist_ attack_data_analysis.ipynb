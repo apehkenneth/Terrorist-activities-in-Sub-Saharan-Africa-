{
 "cells": [
  {
   "cell_type": "markdown",
   "metadata": {
    "hideCode": false,
    "hidePrompt": false
   },
   "source": [
    "# Terrorist activities in Sub Saharan Africa (SSA) between 1970 and 2019\n",
    "\n",
    "## Preliminary Wrangling\n",
    "\n",
    "> Before preprocessing, the dataset for this study had 21742 rows and 30 columns; 691 duplicates were found, as well as 2189 missing values in the *nkill* column, 4043 missing values in the *nwound* column, 543 missing values in the *latitude* column, and 544 missing values in the *longitude* column, which were all replaced with their mean values. Also, the following category variables (targsubtype1 txt= 605,target1= 19,natlty1 txt=140,weapsubtype1 txt=3188,weaptype2 txt=17388, andweapsubtype2 txt=17729) contain missing values, but they were left alone because they had no bearing on our result. As a consequence, the dataset utilized in this investigation had 20740 rows and 30 columns after preprocessing."
   ]
  },
  {
   "cell_type": "code",
   "execution_count": 496,
   "metadata": {
    "hideCode": false,
    "hidePrompt": false
   },
   "outputs": [],
   "source": [
    "# importing labraries \n",
    "import numpy as np\n",
    "import pandas as pd\n",
    "import seaborn as sns\n",
    "import matplotlib.pyplot as plt\n",
    " \n",
    "from sklearn.model_selection import train_test_split #importing sampling helper\n",
    "from sklearn.preprocessing import StandardScaler #importing preprocessing module\n",
    "from sklearn.linear_model import LogisticRegression # Logistic regression classifier\n",
    "from sklearn.naive_bayes import GaussianNB #Gaussian Naive Bayes classifier\n",
    "from sklearn.svm import SVC #SVM classifier\n",
    "from sklearn.neural_network import MLPClassifier # Neural network classifier\n",
    "from sklearn.metrics import accuracy_score,classification_report # Accuracy metric"
   ]
  },
  {
   "cell_type": "markdown",
   "metadata": {
    "hideCode": false,
    "hidePrompt": false
   },
   "source": [
    "### Data collection and processing"
   ]
  },
  {
   "cell_type": "code",
   "execution_count": 382,
   "metadata": {
    "hideCode": false,
    "hidePrompt": false
   },
   "outputs": [],
   "source": [
    "#load dataset\n",
    "tdf = pd.read_csv('tdata.csv')"
   ]
  },
  {
   "cell_type": "code",
   "execution_count": 387,
   "metadata": {
    "hideCode": false,
    "hidePrompt": false
   },
   "outputs": [
    {
     "data": {
      "text/plain": [
       "(21742, 30)"
      ]
     },
     "execution_count": 387,
     "metadata": {},
     "output_type": "execute_result"
    }
   ],
   "source": [
    "# Numbers of rows and columns\n",
    "tdf.shape"
   ]
  },
  {
   "cell_type": "code",
   "execution_count": 383,
   "metadata": {
    "hideCode": false,
    "hidePrompt": false
   },
   "outputs": [
    {
     "data": {
      "text/html": [
       "<div>\n",
       "<style scoped>\n",
       "    .dataframe tbody tr th:only-of-type {\n",
       "        vertical-align: middle;\n",
       "    }\n",
       "\n",
       "    .dataframe tbody tr th {\n",
       "        vertical-align: top;\n",
       "    }\n",
       "\n",
       "    .dataframe thead th {\n",
       "        text-align: right;\n",
       "    }\n",
       "</style>\n",
       "<table border=\"1\" class=\"dataframe\">\n",
       "  <thead>\n",
       "    <tr style=\"text-align: right;\">\n",
       "      <th></th>\n",
       "      <th>iyear</th>\n",
       "      <th>imonth</th>\n",
       "      <th>iday</th>\n",
       "      <th>country_txt</th>\n",
       "      <th>latitude</th>\n",
       "      <th>longitude</th>\n",
       "      <th>crit1</th>\n",
       "      <th>crit2</th>\n",
       "      <th>crit3</th>\n",
       "      <th>doubtterr</th>\n",
       "      <th>...</th>\n",
       "      <th>weaptype2_txt</th>\n",
       "      <th>weapsubtype2_txt</th>\n",
       "      <th>nkill</th>\n",
       "      <th>nwound</th>\n",
       "      <th>property</th>\n",
       "      <th>ishostkid</th>\n",
       "      <th>INT_LOG</th>\n",
       "      <th>INT_IDEO</th>\n",
       "      <th>INT_MISC</th>\n",
       "      <th>INT_ANY</th>\n",
       "    </tr>\n",
       "  </thead>\n",
       "  <tbody>\n",
       "    <tr>\n",
       "      <th>0</th>\n",
       "      <td>1970</td>\n",
       "      <td>1</td>\n",
       "      <td>11</td>\n",
       "      <td>Ethiopia</td>\n",
       "      <td>NaN</td>\n",
       "      <td>NaN</td>\n",
       "      <td>1</td>\n",
       "      <td>1</td>\n",
       "      <td>0</td>\n",
       "      <td>1</td>\n",
       "      <td>...</td>\n",
       "      <td>NaN</td>\n",
       "      <td>NaN</td>\n",
       "      <td>1.0</td>\n",
       "      <td>0.0</td>\n",
       "      <td>0</td>\n",
       "      <td>0</td>\n",
       "      <td>0</td>\n",
       "      <td>1</td>\n",
       "      <td>1</td>\n",
       "      <td>1</td>\n",
       "    </tr>\n",
       "    <tr>\n",
       "      <th>1</th>\n",
       "      <td>1970</td>\n",
       "      <td>3</td>\n",
       "      <td>14</td>\n",
       "      <td>Ethiopia</td>\n",
       "      <td>NaN</td>\n",
       "      <td>NaN</td>\n",
       "      <td>1</td>\n",
       "      <td>1</td>\n",
       "      <td>1</td>\n",
       "      <td>0</td>\n",
       "      <td>...</td>\n",
       "      <td>NaN</td>\n",
       "      <td>NaN</td>\n",
       "      <td>0.0</td>\n",
       "      <td>0.0</td>\n",
       "      <td>0</td>\n",
       "      <td>1</td>\n",
       "      <td>0</td>\n",
       "      <td>1</td>\n",
       "      <td>1</td>\n",
       "      <td>1</td>\n",
       "    </tr>\n",
       "    <tr>\n",
       "      <th>2</th>\n",
       "      <td>1970</td>\n",
       "      <td>4</td>\n",
       "      <td>0</td>\n",
       "      <td>Ethiopia</td>\n",
       "      <td>NaN</td>\n",
       "      <td>NaN</td>\n",
       "      <td>1</td>\n",
       "      <td>1</td>\n",
       "      <td>1</td>\n",
       "      <td>0</td>\n",
       "      <td>...</td>\n",
       "      <td>NaN</td>\n",
       "      <td>NaN</td>\n",
       "      <td>0.0</td>\n",
       "      <td>0.0</td>\n",
       "      <td>0</td>\n",
       "      <td>1</td>\n",
       "      <td>0</td>\n",
       "      <td>1</td>\n",
       "      <td>1</td>\n",
       "      <td>1</td>\n",
       "    </tr>\n",
       "    <tr>\n",
       "      <th>3</th>\n",
       "      <td>1971</td>\n",
       "      <td>1</td>\n",
       "      <td>15</td>\n",
       "      <td>Zambia</td>\n",
       "      <td>NaN</td>\n",
       "      <td>NaN</td>\n",
       "      <td>1</td>\n",
       "      <td>1</td>\n",
       "      <td>1</td>\n",
       "      <td>0</td>\n",
       "      <td>...</td>\n",
       "      <td>NaN</td>\n",
       "      <td>NaN</td>\n",
       "      <td>1.0</td>\n",
       "      <td>0.0</td>\n",
       "      <td>0</td>\n",
       "      <td>1</td>\n",
       "      <td>1</td>\n",
       "      <td>1</td>\n",
       "      <td>1</td>\n",
       "      <td>1</td>\n",
       "    </tr>\n",
       "    <tr>\n",
       "      <th>4</th>\n",
       "      <td>1971</td>\n",
       "      <td>1</td>\n",
       "      <td>22</td>\n",
       "      <td>Ethiopia</td>\n",
       "      <td>11.583513</td>\n",
       "      <td>37.397019</td>\n",
       "      <td>1</td>\n",
       "      <td>1</td>\n",
       "      <td>1</td>\n",
       "      <td>0</td>\n",
       "      <td>...</td>\n",
       "      <td>NaN</td>\n",
       "      <td>NaN</td>\n",
       "      <td>0.0</td>\n",
       "      <td>0.0</td>\n",
       "      <td>0</td>\n",
       "      <td>1</td>\n",
       "      <td>0</td>\n",
       "      <td>0</td>\n",
       "      <td>0</td>\n",
       "      <td>0</td>\n",
       "    </tr>\n",
       "    <tr>\n",
       "      <th>5</th>\n",
       "      <td>1972</td>\n",
       "      <td>9</td>\n",
       "      <td>21</td>\n",
       "      <td>Zaire</td>\n",
       "      <td>-4.389166</td>\n",
       "      <td>15.337620</td>\n",
       "      <td>1</td>\n",
       "      <td>1</td>\n",
       "      <td>1</td>\n",
       "      <td>0</td>\n",
       "      <td>...</td>\n",
       "      <td>NaN</td>\n",
       "      <td>NaN</td>\n",
       "      <td>0.0</td>\n",
       "      <td>0.0</td>\n",
       "      <td>0</td>\n",
       "      <td>0</td>\n",
       "      <td>1</td>\n",
       "      <td>1</td>\n",
       "      <td>1</td>\n",
       "      <td>1</td>\n",
       "    </tr>\n",
       "    <tr>\n",
       "      <th>6</th>\n",
       "      <td>1972</td>\n",
       "      <td>9</td>\n",
       "      <td>21</td>\n",
       "      <td>Zaire</td>\n",
       "      <td>-4.389166</td>\n",
       "      <td>15.337620</td>\n",
       "      <td>1</td>\n",
       "      <td>1</td>\n",
       "      <td>1</td>\n",
       "      <td>0</td>\n",
       "      <td>...</td>\n",
       "      <td>NaN</td>\n",
       "      <td>NaN</td>\n",
       "      <td>0.0</td>\n",
       "      <td>0.0</td>\n",
       "      <td>0</td>\n",
       "      <td>0</td>\n",
       "      <td>1</td>\n",
       "      <td>1</td>\n",
       "      <td>1</td>\n",
       "      <td>1</td>\n",
       "    </tr>\n",
       "    <tr>\n",
       "      <th>7</th>\n",
       "      <td>1972</td>\n",
       "      <td>9</td>\n",
       "      <td>21</td>\n",
       "      <td>Zaire</td>\n",
       "      <td>-4.389166</td>\n",
       "      <td>15.337620</td>\n",
       "      <td>1</td>\n",
       "      <td>1</td>\n",
       "      <td>1</td>\n",
       "      <td>0</td>\n",
       "      <td>...</td>\n",
       "      <td>NaN</td>\n",
       "      <td>NaN</td>\n",
       "      <td>0.0</td>\n",
       "      <td>0.0</td>\n",
       "      <td>0</td>\n",
       "      <td>0</td>\n",
       "      <td>1</td>\n",
       "      <td>1</td>\n",
       "      <td>1</td>\n",
       "      <td>1</td>\n",
       "    </tr>\n",
       "  </tbody>\n",
       "</table>\n",
       "<p>8 rows × 30 columns</p>\n",
       "</div>"
      ],
      "text/plain": [
       "   iyear  imonth  iday country_txt   latitude  longitude  crit1  crit2  crit3  \\\n",
       "0   1970       1    11    Ethiopia        NaN        NaN      1      1      0   \n",
       "1   1970       3    14    Ethiopia        NaN        NaN      1      1      1   \n",
       "2   1970       4     0    Ethiopia        NaN        NaN      1      1      1   \n",
       "3   1971       1    15      Zambia        NaN        NaN      1      1      1   \n",
       "4   1971       1    22    Ethiopia  11.583513  37.397019      1      1      1   \n",
       "5   1972       9    21       Zaire  -4.389166  15.337620      1      1      1   \n",
       "6   1972       9    21       Zaire  -4.389166  15.337620      1      1      1   \n",
       "7   1972       9    21       Zaire  -4.389166  15.337620      1      1      1   \n",
       "\n",
       "   doubtterr  ...  weaptype2_txt  weapsubtype2_txt nkill nwound property  \\\n",
       "0          1  ...            NaN               NaN   1.0    0.0        0   \n",
       "1          0  ...            NaN               NaN   0.0    0.0        0   \n",
       "2          0  ...            NaN               NaN   0.0    0.0        0   \n",
       "3          0  ...            NaN               NaN   1.0    0.0        0   \n",
       "4          0  ...            NaN               NaN   0.0    0.0        0   \n",
       "5          0  ...            NaN               NaN   0.0    0.0        0   \n",
       "6          0  ...            NaN               NaN   0.0    0.0        0   \n",
       "7          0  ...            NaN               NaN   0.0    0.0        0   \n",
       "\n",
       "  ishostkid INT_LOG INT_IDEO INT_MISC INT_ANY  \n",
       "0         0       0        1        1       1  \n",
       "1         1       0        1        1       1  \n",
       "2         1       0        1        1       1  \n",
       "3         1       1        1        1       1  \n",
       "4         1       0        0        0       0  \n",
       "5         0       1        1        1       1  \n",
       "6         0       1        1        1       1  \n",
       "7         0       1        1        1       1  \n",
       "\n",
       "[8 rows x 30 columns]"
      ]
     },
     "execution_count": 383,
     "metadata": {},
     "output_type": "execute_result"
    }
   ],
   "source": [
    "# Dataset previewing\n",
    "tdf.head(8)"
   ]
  },
  {
   "cell_type": "code",
   "execution_count": 384,
   "metadata": {
    "hideCode": false,
    "hidePrompt": false
   },
   "outputs": [
    {
     "name": "stdout",
     "output_type": "stream",
     "text": [
      "<class 'pandas.core.frame.DataFrame'>\n",
      "RangeIndex: 21742 entries, 0 to 21741\n",
      "Data columns (total 30 columns):\n",
      " #   Column            Non-Null Count  Dtype  \n",
      "---  ------            --------------  -----  \n",
      " 0   iyear             21742 non-null  int64  \n",
      " 1   imonth            21742 non-null  int64  \n",
      " 2   iday              21742 non-null  int64  \n",
      " 3   country_txt       21742 non-null  object \n",
      " 4   latitude          21170 non-null  float64\n",
      " 5   longitude         21169 non-null  float64\n",
      " 6   crit1             21742 non-null  int64  \n",
      " 7   crit2             21742 non-null  int64  \n",
      " 8   crit3             21742 non-null  int64  \n",
      " 9   doubtterr         21742 non-null  int64  \n",
      " 10  success           21742 non-null  int64  \n",
      " 11  suicide           21742 non-null  int64  \n",
      " 12  attacktype1_txt   21742 non-null  object \n",
      " 13  targtype1_txt     21742 non-null  object \n",
      " 14  targsubtype1_txt  21096 non-null  object \n",
      " 15  target1           21719 non-null  object \n",
      " 16  natlty1_txt       21596 non-null  object \n",
      " 17  gname             21742 non-null  object \n",
      " 18  weaptype1_txt     21742 non-null  object \n",
      " 19  weapsubtype1_txt  18400 non-null  object \n",
      " 20  weaptype2_txt     3568 non-null   object \n",
      " 21  weapsubtype2_txt  3210 non-null   object \n",
      " 22  nkill             19457 non-null  float64\n",
      " 23  nwound            17476 non-null  float64\n",
      " 24  property          21742 non-null  int64  \n",
      " 25  ishostkid         21742 non-null  int64  \n",
      " 26  INT_LOG           21742 non-null  int64  \n",
      " 27  INT_IDEO          21742 non-null  int64  \n",
      " 28  INT_MISC          21742 non-null  int64  \n",
      " 29  INT_ANY           21742 non-null  int64  \n",
      "dtypes: float64(4), int64(15), object(11)\n",
      "memory usage: 5.0+ MB\n"
     ]
    }
   ],
   "source": [
    "tdf.info()"
   ]
  },
  {
   "cell_type": "code",
   "execution_count": 385,
   "metadata": {
    "hideCode": false,
    "hidePrompt": false
   },
   "outputs": [],
   "source": [
    "#Replacing 1 and 0 to succeeded and failed in the success column respectively\n",
    "tdf['success'] = tdf['success'].replace(1,'succeeded')\n",
    "tdf['success'] = tdf['success'].replace(0,'failed')"
   ]
  },
  {
   "cell_type": "code",
   "execution_count": 386,
   "metadata": {
    "hideCode": false,
    "hidePrompt": false
   },
   "outputs": [
    {
     "data": {
      "text/html": [
       "<div>\n",
       "<style scoped>\n",
       "    .dataframe tbody tr th:only-of-type {\n",
       "        vertical-align: middle;\n",
       "    }\n",
       "\n",
       "    .dataframe tbody tr th {\n",
       "        vertical-align: top;\n",
       "    }\n",
       "\n",
       "    .dataframe thead th {\n",
       "        text-align: right;\n",
       "    }\n",
       "</style>\n",
       "<table border=\"1\" class=\"dataframe\">\n",
       "  <thead>\n",
       "    <tr style=\"text-align: right;\">\n",
       "      <th></th>\n",
       "      <th>iyear</th>\n",
       "      <th>imonth</th>\n",
       "      <th>iday</th>\n",
       "      <th>country_txt</th>\n",
       "      <th>latitude</th>\n",
       "      <th>longitude</th>\n",
       "      <th>crit1</th>\n",
       "      <th>crit2</th>\n",
       "      <th>crit3</th>\n",
       "      <th>doubtterr</th>\n",
       "      <th>...</th>\n",
       "      <th>weaptype2_txt</th>\n",
       "      <th>weapsubtype2_txt</th>\n",
       "      <th>nkill</th>\n",
       "      <th>nwound</th>\n",
       "      <th>property</th>\n",
       "      <th>ishostkid</th>\n",
       "      <th>INT_LOG</th>\n",
       "      <th>INT_IDEO</th>\n",
       "      <th>INT_MISC</th>\n",
       "      <th>INT_ANY</th>\n",
       "    </tr>\n",
       "  </thead>\n",
       "  <tbody>\n",
       "    <tr>\n",
       "      <th>0</th>\n",
       "      <td>1970</td>\n",
       "      <td>1</td>\n",
       "      <td>11</td>\n",
       "      <td>Ethiopia</td>\n",
       "      <td>NaN</td>\n",
       "      <td>NaN</td>\n",
       "      <td>1</td>\n",
       "      <td>1</td>\n",
       "      <td>0</td>\n",
       "      <td>1</td>\n",
       "      <td>...</td>\n",
       "      <td>NaN</td>\n",
       "      <td>NaN</td>\n",
       "      <td>1.0</td>\n",
       "      <td>0.0</td>\n",
       "      <td>0</td>\n",
       "      <td>0</td>\n",
       "      <td>0</td>\n",
       "      <td>1</td>\n",
       "      <td>1</td>\n",
       "      <td>1</td>\n",
       "    </tr>\n",
       "    <tr>\n",
       "      <th>1</th>\n",
       "      <td>1970</td>\n",
       "      <td>3</td>\n",
       "      <td>14</td>\n",
       "      <td>Ethiopia</td>\n",
       "      <td>NaN</td>\n",
       "      <td>NaN</td>\n",
       "      <td>1</td>\n",
       "      <td>1</td>\n",
       "      <td>1</td>\n",
       "      <td>0</td>\n",
       "      <td>...</td>\n",
       "      <td>NaN</td>\n",
       "      <td>NaN</td>\n",
       "      <td>0.0</td>\n",
       "      <td>0.0</td>\n",
       "      <td>0</td>\n",
       "      <td>1</td>\n",
       "      <td>0</td>\n",
       "      <td>1</td>\n",
       "      <td>1</td>\n",
       "      <td>1</td>\n",
       "    </tr>\n",
       "    <tr>\n",
       "      <th>2</th>\n",
       "      <td>1970</td>\n",
       "      <td>4</td>\n",
       "      <td>0</td>\n",
       "      <td>Ethiopia</td>\n",
       "      <td>NaN</td>\n",
       "      <td>NaN</td>\n",
       "      <td>1</td>\n",
       "      <td>1</td>\n",
       "      <td>1</td>\n",
       "      <td>0</td>\n",
       "      <td>...</td>\n",
       "      <td>NaN</td>\n",
       "      <td>NaN</td>\n",
       "      <td>0.0</td>\n",
       "      <td>0.0</td>\n",
       "      <td>0</td>\n",
       "      <td>1</td>\n",
       "      <td>0</td>\n",
       "      <td>1</td>\n",
       "      <td>1</td>\n",
       "      <td>1</td>\n",
       "    </tr>\n",
       "    <tr>\n",
       "      <th>3</th>\n",
       "      <td>1971</td>\n",
       "      <td>1</td>\n",
       "      <td>15</td>\n",
       "      <td>Zambia</td>\n",
       "      <td>NaN</td>\n",
       "      <td>NaN</td>\n",
       "      <td>1</td>\n",
       "      <td>1</td>\n",
       "      <td>1</td>\n",
       "      <td>0</td>\n",
       "      <td>...</td>\n",
       "      <td>NaN</td>\n",
       "      <td>NaN</td>\n",
       "      <td>1.0</td>\n",
       "      <td>0.0</td>\n",
       "      <td>0</td>\n",
       "      <td>1</td>\n",
       "      <td>1</td>\n",
       "      <td>1</td>\n",
       "      <td>1</td>\n",
       "      <td>1</td>\n",
       "    </tr>\n",
       "    <tr>\n",
       "      <th>4</th>\n",
       "      <td>1971</td>\n",
       "      <td>1</td>\n",
       "      <td>22</td>\n",
       "      <td>Ethiopia</td>\n",
       "      <td>11.583513</td>\n",
       "      <td>37.397019</td>\n",
       "      <td>1</td>\n",
       "      <td>1</td>\n",
       "      <td>1</td>\n",
       "      <td>0</td>\n",
       "      <td>...</td>\n",
       "      <td>NaN</td>\n",
       "      <td>NaN</td>\n",
       "      <td>0.0</td>\n",
       "      <td>0.0</td>\n",
       "      <td>0</td>\n",
       "      <td>1</td>\n",
       "      <td>0</td>\n",
       "      <td>0</td>\n",
       "      <td>0</td>\n",
       "      <td>0</td>\n",
       "    </tr>\n",
       "    <tr>\n",
       "      <th>5</th>\n",
       "      <td>1972</td>\n",
       "      <td>9</td>\n",
       "      <td>21</td>\n",
       "      <td>Zaire</td>\n",
       "      <td>-4.389166</td>\n",
       "      <td>15.337620</td>\n",
       "      <td>1</td>\n",
       "      <td>1</td>\n",
       "      <td>1</td>\n",
       "      <td>0</td>\n",
       "      <td>...</td>\n",
       "      <td>NaN</td>\n",
       "      <td>NaN</td>\n",
       "      <td>0.0</td>\n",
       "      <td>0.0</td>\n",
       "      <td>0</td>\n",
       "      <td>0</td>\n",
       "      <td>1</td>\n",
       "      <td>1</td>\n",
       "      <td>1</td>\n",
       "      <td>1</td>\n",
       "    </tr>\n",
       "    <tr>\n",
       "      <th>6</th>\n",
       "      <td>1972</td>\n",
       "      <td>9</td>\n",
       "      <td>21</td>\n",
       "      <td>Zaire</td>\n",
       "      <td>-4.389166</td>\n",
       "      <td>15.337620</td>\n",
       "      <td>1</td>\n",
       "      <td>1</td>\n",
       "      <td>1</td>\n",
       "      <td>0</td>\n",
       "      <td>...</td>\n",
       "      <td>NaN</td>\n",
       "      <td>NaN</td>\n",
       "      <td>0.0</td>\n",
       "      <td>0.0</td>\n",
       "      <td>0</td>\n",
       "      <td>0</td>\n",
       "      <td>1</td>\n",
       "      <td>1</td>\n",
       "      <td>1</td>\n",
       "      <td>1</td>\n",
       "    </tr>\n",
       "    <tr>\n",
       "      <th>7</th>\n",
       "      <td>1972</td>\n",
       "      <td>9</td>\n",
       "      <td>21</td>\n",
       "      <td>Zaire</td>\n",
       "      <td>-4.389166</td>\n",
       "      <td>15.337620</td>\n",
       "      <td>1</td>\n",
       "      <td>1</td>\n",
       "      <td>1</td>\n",
       "      <td>0</td>\n",
       "      <td>...</td>\n",
       "      <td>NaN</td>\n",
       "      <td>NaN</td>\n",
       "      <td>0.0</td>\n",
       "      <td>0.0</td>\n",
       "      <td>0</td>\n",
       "      <td>0</td>\n",
       "      <td>1</td>\n",
       "      <td>1</td>\n",
       "      <td>1</td>\n",
       "      <td>1</td>\n",
       "    </tr>\n",
       "  </tbody>\n",
       "</table>\n",
       "<p>8 rows × 30 columns</p>\n",
       "</div>"
      ],
      "text/plain": [
       "   iyear  imonth  iday country_txt   latitude  longitude  crit1  crit2  crit3  \\\n",
       "0   1970       1    11    Ethiopia        NaN        NaN      1      1      0   \n",
       "1   1970       3    14    Ethiopia        NaN        NaN      1      1      1   \n",
       "2   1970       4     0    Ethiopia        NaN        NaN      1      1      1   \n",
       "3   1971       1    15      Zambia        NaN        NaN      1      1      1   \n",
       "4   1971       1    22    Ethiopia  11.583513  37.397019      1      1      1   \n",
       "5   1972       9    21       Zaire  -4.389166  15.337620      1      1      1   \n",
       "6   1972       9    21       Zaire  -4.389166  15.337620      1      1      1   \n",
       "7   1972       9    21       Zaire  -4.389166  15.337620      1      1      1   \n",
       "\n",
       "   doubtterr  ... weaptype2_txt  weapsubtype2_txt nkill nwound property  \\\n",
       "0          1  ...           NaN               NaN   1.0    0.0        0   \n",
       "1          0  ...           NaN               NaN   0.0    0.0        0   \n",
       "2          0  ...           NaN               NaN   0.0    0.0        0   \n",
       "3          0  ...           NaN               NaN   1.0    0.0        0   \n",
       "4          0  ...           NaN               NaN   0.0    0.0        0   \n",
       "5          0  ...           NaN               NaN   0.0    0.0        0   \n",
       "6          0  ...           NaN               NaN   0.0    0.0        0   \n",
       "7          0  ...           NaN               NaN   0.0    0.0        0   \n",
       "\n",
       "  ishostkid INT_LOG INT_IDEO INT_MISC INT_ANY  \n",
       "0         0       0        1        1       1  \n",
       "1         1       0        1        1       1  \n",
       "2         1       0        1        1       1  \n",
       "3         1       1        1        1       1  \n",
       "4         1       0        0        0       0  \n",
       "5         0       1        1        1       1  \n",
       "6         0       1        1        1       1  \n",
       "7         0       1        1        1       1  \n",
       "\n",
       "[8 rows x 30 columns]"
      ]
     },
     "execution_count": 386,
     "metadata": {},
     "output_type": "execute_result"
    }
   ],
   "source": [
    "#Checking the dateset to confirm if the success column has been changed\n",
    "tdf.head(8)"
   ]
  },
  {
   "cell_type": "code",
   "execution_count": 388,
   "metadata": {
    "hideCode": false,
    "hidePrompt": false
   },
   "outputs": [
    {
     "data": {
      "text/plain": [
       "691"
      ]
     },
     "execution_count": 388,
     "metadata": {},
     "output_type": "execute_result"
    }
   ],
   "source": [
    "# Checking for number of duplicate in the  dataset\n",
    "tdf.duplicated().sum() "
   ]
  },
  {
   "cell_type": "code",
   "execution_count": 389,
   "metadata": {
    "hideCode": false,
    "hidePrompt": false
   },
   "outputs": [],
   "source": [
    "# Dropping duplicate values\n",
    "tdf.drop_duplicates(keep=False,inplace=True)"
   ]
  },
  {
   "cell_type": "code",
   "execution_count": 390,
   "metadata": {
    "hideCode": false,
    "hidePrompt": false
   },
   "outputs": [
    {
     "data": {
      "text/plain": [
       "iyear                   0\n",
       "imonth                  0\n",
       "iday                    0\n",
       "country_txt             0\n",
       "latitude              543\n",
       "longitude             544\n",
       "crit1                   0\n",
       "crit2                   0\n",
       "crit3                   0\n",
       "doubtterr               0\n",
       "success                 0\n",
       "suicide                 0\n",
       "attacktype1_txt         0\n",
       "targtype1_txt           0\n",
       "targsubtype1_txt      605\n",
       "target1                19\n",
       "natlty1_txt           140\n",
       "gname                   0\n",
       "weaptype1_txt           0\n",
       "weapsubtype1_txt     3188\n",
       "weaptype2_txt       17388\n",
       "weapsubtype2_txt    17729\n",
       "nkill                2189\n",
       "nwound               4043\n",
       "property                0\n",
       "ishostkid               0\n",
       "INT_LOG                 0\n",
       "INT_IDEO                0\n",
       "INT_MISC                0\n",
       "INT_ANY                 0\n",
       "dtype: int64"
      ]
     },
     "execution_count": 390,
     "metadata": {},
     "output_type": "execute_result"
    }
   ],
   "source": [
    "# Checking for missing (null) values on each columns\n",
    "tdf.isnull().sum()"
   ]
  },
  {
   "cell_type": "markdown",
   "metadata": {
    "hideCode": false,
    "hidePrompt": false
   },
   "source": [
    "> There are 2107 missing values in nkill, 3920 missing values in nwound, 533 missing values in latitude, and 534 missing values in longitude. As a result, to avoid information loss, we would replace the missing values with their means."
   ]
  },
  {
   "cell_type": "code",
   "execution_count": 391,
   "metadata": {
    "hideCode": false,
    "hidePrompt": false
   },
   "outputs": [
    {
     "data": {
      "text/plain": [
       "iyear        2010.0\n",
       "imonth          6.0\n",
       "iday           16.0\n",
       "latitude        2.0\n",
       "longitude      25.0\n",
       "crit1           1.0\n",
       "crit2           1.0\n",
       "crit3           1.0\n",
       "doubtterr      -0.0\n",
       "suicide         0.0\n",
       "nkill           5.0\n",
       "nwound          4.0\n",
       "property       -1.0\n",
       "ishostkid       0.0\n",
       "INT_LOG        -4.0\n",
       "INT_IDEO       -4.0\n",
       "INT_MISC        0.0\n",
       "INT_ANY        -3.0\n",
       "dtype: float64"
      ]
     },
     "execution_count": 391,
     "metadata": {},
     "output_type": "execute_result"
    }
   ],
   "source": [
    "#Chacking the mean values of all the variables\n",
    "tdf_mean=tdf.mean().round(0) \n",
    "tdf_mean"
   ]
  },
  {
   "cell_type": "markdown",
   "metadata": {
    "hideCode": false,
    "hidePrompt": false
   },
   "source": [
    "> We are going to use the mean values of **nkill = 5** and that of **nwound= 4**, **latitude = 2** and **longitude= 25** to fill in the NaNs in these varables"
   ]
  },
  {
   "cell_type": "code",
   "execution_count": 392,
   "metadata": {
    "hideCode": false,
    "hidePrompt": false
   },
   "outputs": [],
   "source": [
    "# Filling the missing value with the mean values of the columns of interest \n",
    "tdf = tdf.fillna(tdf_mean)"
   ]
  },
  {
   "cell_type": "code",
   "execution_count": 393,
   "metadata": {
    "hideCode": false,
    "hidePrompt": false
   },
   "outputs": [
    {
     "data": {
      "text/plain": [
       "iyear                   0\n",
       "imonth                  0\n",
       "iday                    0\n",
       "country_txt             0\n",
       "latitude                0\n",
       "longitude               0\n",
       "crit1                   0\n",
       "crit2                   0\n",
       "crit3                   0\n",
       "doubtterr               0\n",
       "success                 0\n",
       "suicide                 0\n",
       "attacktype1_txt         0\n",
       "targtype1_txt           0\n",
       "targsubtype1_txt      605\n",
       "target1                19\n",
       "natlty1_txt           140\n",
       "gname                   0\n",
       "weaptype1_txt           0\n",
       "weapsubtype1_txt     3188\n",
       "weaptype2_txt       17388\n",
       "weapsubtype2_txt    17729\n",
       "nkill                   0\n",
       "nwound                  0\n",
       "property                0\n",
       "ishostkid               0\n",
       "INT_LOG                 0\n",
       "INT_IDEO                0\n",
       "INT_MISC                0\n",
       "INT_ANY                 0\n",
       "dtype: int64"
      ]
     },
     "execution_count": 393,
     "metadata": {},
     "output_type": "execute_result"
    }
   ],
   "source": [
    "# To Confirm if there's still NaNs in the dataframe\n",
    "tdf.isnull().sum()"
   ]
  },
  {
   "cell_type": "code",
   "execution_count": 394,
   "metadata": {
    "hideCode": false,
    "hidePrompt": false
   },
   "outputs": [
    {
     "data": {
      "text/plain": [
       "(20740, 30)"
      ]
     },
     "execution_count": 394,
     "metadata": {},
     "output_type": "execute_result"
    }
   ],
   "source": [
    "# length of our dataset after removing duplicates and replacing the missing values with their means\n",
    "tdf.shape"
   ]
  },
  {
   "cell_type": "code",
   "execution_count": 395,
   "metadata": {
    "hideCode": false,
    "hidePrompt": false
   },
   "outputs": [
    {
     "data": {
      "text/html": [
       "<div>\n",
       "<style scoped>\n",
       "    .dataframe tbody tr th:only-of-type {\n",
       "        vertical-align: middle;\n",
       "    }\n",
       "\n",
       "    .dataframe tbody tr th {\n",
       "        vertical-align: top;\n",
       "    }\n",
       "\n",
       "    .dataframe thead th {\n",
       "        text-align: right;\n",
       "    }\n",
       "</style>\n",
       "<table border=\"1\" class=\"dataframe\">\n",
       "  <thead>\n",
       "    <tr style=\"text-align: right;\">\n",
       "      <th></th>\n",
       "      <th>count</th>\n",
       "      <th>mean</th>\n",
       "      <th>std</th>\n",
       "      <th>min</th>\n",
       "      <th>25%</th>\n",
       "      <th>50%</th>\n",
       "      <th>75%</th>\n",
       "      <th>max</th>\n",
       "    </tr>\n",
       "  </thead>\n",
       "  <tbody>\n",
       "    <tr>\n",
       "      <th>iyear</th>\n",
       "      <td>20740.0</td>\n",
       "      <td>2009.670347</td>\n",
       "      <td>10.706116</td>\n",
       "      <td>1970.000000</td>\n",
       "      <td>2008.000000</td>\n",
       "      <td>2014.000000</td>\n",
       "      <td>2017.000000</td>\n",
       "      <td>2019.000000</td>\n",
       "    </tr>\n",
       "    <tr>\n",
       "      <th>imonth</th>\n",
       "      <td>20740.0</td>\n",
       "      <td>6.422131</td>\n",
       "      <td>3.418404</td>\n",
       "      <td>1.000000</td>\n",
       "      <td>3.000000</td>\n",
       "      <td>6.000000</td>\n",
       "      <td>9.000000</td>\n",
       "      <td>12.000000</td>\n",
       "    </tr>\n",
       "    <tr>\n",
       "      <th>iday</th>\n",
       "      <td>20740.0</td>\n",
       "      <td>15.551784</td>\n",
       "      <td>8.815928</td>\n",
       "      <td>0.000000</td>\n",
       "      <td>8.000000</td>\n",
       "      <td>15.000000</td>\n",
       "      <td>23.000000</td>\n",
       "      <td>31.000000</td>\n",
       "    </tr>\n",
       "    <tr>\n",
       "      <th>latitude</th>\n",
       "      <td>20740.0</td>\n",
       "      <td>1.621690</td>\n",
       "      <td>12.134030</td>\n",
       "      <td>-34.115317</td>\n",
       "      <td>-0.092591</td>\n",
       "      <td>3.381585</td>\n",
       "      <td>10.798531</td>\n",
       "      <td>24.577377</td>\n",
       "    </tr>\n",
       "    <tr>\n",
       "      <th>longitude</th>\n",
       "      <td>20740.0</td>\n",
       "      <td>25.259403</td>\n",
       "      <td>15.535690</td>\n",
       "      <td>-17.366029</td>\n",
       "      <td>12.843377</td>\n",
       "      <td>28.033232</td>\n",
       "      <td>40.927444</td>\n",
       "      <td>55.449390</td>\n",
       "    </tr>\n",
       "    <tr>\n",
       "      <th>crit1</th>\n",
       "      <td>20740.0</td>\n",
       "      <td>0.986162</td>\n",
       "      <td>0.116821</td>\n",
       "      <td>0.000000</td>\n",
       "      <td>1.000000</td>\n",
       "      <td>1.000000</td>\n",
       "      <td>1.000000</td>\n",
       "      <td>1.000000</td>\n",
       "    </tr>\n",
       "    <tr>\n",
       "      <th>crit2</th>\n",
       "      <td>20740.0</td>\n",
       "      <td>0.992623</td>\n",
       "      <td>0.085574</td>\n",
       "      <td>0.000000</td>\n",
       "      <td>1.000000</td>\n",
       "      <td>1.000000</td>\n",
       "      <td>1.000000</td>\n",
       "      <td>1.000000</td>\n",
       "    </tr>\n",
       "    <tr>\n",
       "      <th>crit3</th>\n",
       "      <td>20740.0</td>\n",
       "      <td>0.847059</td>\n",
       "      <td>0.359939</td>\n",
       "      <td>0.000000</td>\n",
       "      <td>1.000000</td>\n",
       "      <td>1.000000</td>\n",
       "      <td>1.000000</td>\n",
       "      <td>1.000000</td>\n",
       "    </tr>\n",
       "    <tr>\n",
       "      <th>doubtterr</th>\n",
       "      <td>20740.0</td>\n",
       "      <td>-0.272565</td>\n",
       "      <td>2.068621</td>\n",
       "      <td>-9.000000</td>\n",
       "      <td>0.000000</td>\n",
       "      <td>0.000000</td>\n",
       "      <td>0.000000</td>\n",
       "      <td>1.000000</td>\n",
       "    </tr>\n",
       "    <tr>\n",
       "      <th>suicide</th>\n",
       "      <td>20740.0</td>\n",
       "      <td>0.042864</td>\n",
       "      <td>0.202555</td>\n",
       "      <td>0.000000</td>\n",
       "      <td>0.000000</td>\n",
       "      <td>0.000000</td>\n",
       "      <td>0.000000</td>\n",
       "      <td>1.000000</td>\n",
       "    </tr>\n",
       "    <tr>\n",
       "      <th>nkill</th>\n",
       "      <td>20740.0</td>\n",
       "      <td>4.839007</td>\n",
       "      <td>16.625578</td>\n",
       "      <td>0.000000</td>\n",
       "      <td>0.000000</td>\n",
       "      <td>2.000000</td>\n",
       "      <td>5.000000</td>\n",
       "      <td>1180.000000</td>\n",
       "    </tr>\n",
       "    <tr>\n",
       "      <th>nwound</th>\n",
       "      <td>20740.0</td>\n",
       "      <td>3.615767</td>\n",
       "      <td>30.533250</td>\n",
       "      <td>0.000000</td>\n",
       "      <td>0.000000</td>\n",
       "      <td>1.000000</td>\n",
       "      <td>4.000000</td>\n",
       "      <td>4000.000000</td>\n",
       "    </tr>\n",
       "    <tr>\n",
       "      <th>property</th>\n",
       "      <td>20740.0</td>\n",
       "      <td>-0.988042</td>\n",
       "      <td>3.544684</td>\n",
       "      <td>-9.000000</td>\n",
       "      <td>0.000000</td>\n",
       "      <td>0.000000</td>\n",
       "      <td>1.000000</td>\n",
       "      <td>1.000000</td>\n",
       "    </tr>\n",
       "    <tr>\n",
       "      <th>ishostkid</th>\n",
       "      <td>20740.0</td>\n",
       "      <td>0.031003</td>\n",
       "      <td>1.060016</td>\n",
       "      <td>-9.000000</td>\n",
       "      <td>0.000000</td>\n",
       "      <td>0.000000</td>\n",
       "      <td>0.000000</td>\n",
       "      <td>1.000000</td>\n",
       "    </tr>\n",
       "    <tr>\n",
       "      <th>INT_LOG</th>\n",
       "      <td>20740.0</td>\n",
       "      <td>-3.668515</td>\n",
       "      <td>4.510121</td>\n",
       "      <td>-9.000000</td>\n",
       "      <td>-9.000000</td>\n",
       "      <td>0.000000</td>\n",
       "      <td>0.000000</td>\n",
       "      <td>1.000000</td>\n",
       "    </tr>\n",
       "    <tr>\n",
       "      <th>INT_IDEO</th>\n",
       "      <td>20740.0</td>\n",
       "      <td>-3.565574</td>\n",
       "      <td>4.609731</td>\n",
       "      <td>-9.000000</td>\n",
       "      <td>-9.000000</td>\n",
       "      <td>0.000000</td>\n",
       "      <td>0.000000</td>\n",
       "      <td>1.000000</td>\n",
       "    </tr>\n",
       "    <tr>\n",
       "      <th>INT_MISC</th>\n",
       "      <td>20740.0</td>\n",
       "      <td>0.117792</td>\n",
       "      <td>0.522655</td>\n",
       "      <td>-9.000000</td>\n",
       "      <td>0.000000</td>\n",
       "      <td>0.000000</td>\n",
       "      <td>0.000000</td>\n",
       "      <td>1.000000</td>\n",
       "    </tr>\n",
       "    <tr>\n",
       "      <th>INT_ANY</th>\n",
       "      <td>20740.0</td>\n",
       "      <td>-3.051639</td>\n",
       "      <td>4.532898</td>\n",
       "      <td>-9.000000</td>\n",
       "      <td>-9.000000</td>\n",
       "      <td>0.000000</td>\n",
       "      <td>0.000000</td>\n",
       "      <td>1.000000</td>\n",
       "    </tr>\n",
       "  </tbody>\n",
       "</table>\n",
       "</div>"
      ],
      "text/plain": [
       "             count         mean        std          min          25%  \\\n",
       "iyear      20740.0  2009.670347  10.706116  1970.000000  2008.000000   \n",
       "imonth     20740.0     6.422131   3.418404     1.000000     3.000000   \n",
       "iday       20740.0    15.551784   8.815928     0.000000     8.000000   \n",
       "latitude   20740.0     1.621690  12.134030   -34.115317    -0.092591   \n",
       "longitude  20740.0    25.259403  15.535690   -17.366029    12.843377   \n",
       "crit1      20740.0     0.986162   0.116821     0.000000     1.000000   \n",
       "crit2      20740.0     0.992623   0.085574     0.000000     1.000000   \n",
       "crit3      20740.0     0.847059   0.359939     0.000000     1.000000   \n",
       "doubtterr  20740.0    -0.272565   2.068621    -9.000000     0.000000   \n",
       "suicide    20740.0     0.042864   0.202555     0.000000     0.000000   \n",
       "nkill      20740.0     4.839007  16.625578     0.000000     0.000000   \n",
       "nwound     20740.0     3.615767  30.533250     0.000000     0.000000   \n",
       "property   20740.0    -0.988042   3.544684    -9.000000     0.000000   \n",
       "ishostkid  20740.0     0.031003   1.060016    -9.000000     0.000000   \n",
       "INT_LOG    20740.0    -3.668515   4.510121    -9.000000    -9.000000   \n",
       "INT_IDEO   20740.0    -3.565574   4.609731    -9.000000    -9.000000   \n",
       "INT_MISC   20740.0     0.117792   0.522655    -9.000000     0.000000   \n",
       "INT_ANY    20740.0    -3.051639   4.532898    -9.000000    -9.000000   \n",
       "\n",
       "                   50%          75%          max  \n",
       "iyear      2014.000000  2017.000000  2019.000000  \n",
       "imonth        6.000000     9.000000    12.000000  \n",
       "iday         15.000000    23.000000    31.000000  \n",
       "latitude      3.381585    10.798531    24.577377  \n",
       "longitude    28.033232    40.927444    55.449390  \n",
       "crit1         1.000000     1.000000     1.000000  \n",
       "crit2         1.000000     1.000000     1.000000  \n",
       "crit3         1.000000     1.000000     1.000000  \n",
       "doubtterr     0.000000     0.000000     1.000000  \n",
       "suicide       0.000000     0.000000     1.000000  \n",
       "nkill         2.000000     5.000000  1180.000000  \n",
       "nwound        1.000000     4.000000  4000.000000  \n",
       "property      0.000000     1.000000     1.000000  \n",
       "ishostkid     0.000000     0.000000     1.000000  \n",
       "INT_LOG       0.000000     0.000000     1.000000  \n",
       "INT_IDEO      0.000000     0.000000     1.000000  \n",
       "INT_MISC      0.000000     0.000000     1.000000  \n",
       "INT_ANY       0.000000     0.000000     1.000000  "
      ]
     },
     "execution_count": 395,
     "metadata": {},
     "output_type": "execute_result"
    }
   ],
   "source": [
    "# Checking the descriptive statistics for numeric variables\n",
    "tdf.describe().transpose()"
   ]
  },
  {
   "cell_type": "markdown",
   "metadata": {
    "hideCode": false,
    "hidePrompt": false
   },
   "source": [
    "# Univariate Exploration\n"
   ]
  },
  {
   "cell_type": "markdown",
   "metadata": {
    "hideCode": false,
    "hidePrompt": false
   },
   "source": [
    "### Whether the attack was successful or not"
   ]
  },
  {
   "cell_type": "code",
   "execution_count": 396,
   "metadata": {
    "hideCode": false,
    "hidePrompt": false
   },
   "outputs": [
    {
     "data": {
      "text/plain": [
       "succeeded    19115\n",
       "failed        1625\n",
       "Name: success, dtype: int64"
      ]
     },
     "execution_count": 396,
     "metadata": {},
     "output_type": "execute_result"
    }
   ],
   "source": [
    "# Checking the count for the successful and failed of attack \n",
    "tdf.success.value_counts().head()"
   ]
  },
  {
   "cell_type": "code",
   "execution_count": 442,
   "metadata": {
    "hideCode": false,
    "hidePrompt": false
   },
   "outputs": [
    {
     "data": {
      "image/png": "[encoded data removed]",
      "text/plain": [
       "<Figure size 576x504 with 1 Axes>"
      ]
     },
     "metadata": {},
     "output_type": "display_data"
    }
   ],
   "source": [
    "# Distribution of the counts for all successful and failed attack counts\n",
    "plt.figure(figsize = [8,7])\n",
    "sns.set_theme(style=\"darkgrid\")\n",
    "tdf['success'].value_counts()[:10].plot(kind='barh');"
   ]
  },
  {
   "cell_type": "markdown",
   "metadata": {
    "hideCode": false,
    "hidePrompt": false
   },
   "source": [
    "> The graph reveals that they were successful in the majority of their attacks, with 19115 successful attacks and 1625 unsuccessful attacks."
   ]
  },
  {
   "cell_type": "markdown",
   "metadata": {
    "hideCode": false,
    "hidePrompt": false
   },
   "source": [
    "### The country in which the attack took place"
   ]
  },
  {
   "cell_type": "code",
   "execution_count": 398,
   "metadata": {
    "hideCode": false,
    "hidePrompt": false
   },
   "outputs": [
    {
     "data": {
      "text/plain": [
       "Somalia                             4943\n",
       "Nigeria                             4803\n",
       "South Africa                        1946\n",
       "Democratic Republic of the Congo    1132\n",
       "Sudan                               1003\n",
       "Name: country_txt, dtype: int64"
      ]
     },
     "execution_count": 398,
     "metadata": {},
     "output_type": "execute_result"
    }
   ],
   "source": [
    "# Checking for country_tx counts\n",
    "tdf.country_txt.value_counts().head()"
   ]
  },
  {
   "cell_type": "code",
   "execution_count": 428,
   "metadata": {
    "hideCode": false,
    "hidePrompt": false
   },
   "outputs": [
    {
     "data": {
      "image/png": "[encoded data removed]",
      "text/plain": [
       "<Figure size 576x504 with 1 Axes>"
      ]
     },
     "metadata": {},
     "output_type": "display_data"
    }
   ],
   "source": [
    "# Top 10 country_txt \n",
    "plt.figure(figsize = [8,7])\n",
    "sns.set_theme(style=\"darkgrid\")\n",
    "tdf['country_txt'].value_counts()[:10].plot(kind='barh');"
   ]
  },
  {
   "cell_type": "markdown",
   "metadata": {
    "hideCode": false,
    "hidePrompt": false
   },
   "source": [
    "> According to the graph above, the majority of the attacks occurred in Somalia, Nigeria, and South Africa, with Somalia having the most assaults (4943), Nigeria having 4803, and South Africa having 1946."
   ]
  },
  {
   "cell_type": "markdown",
   "metadata": {
    "hideCode": false,
    "hidePrompt": false
   },
   "source": [
    "### Method of carrying out the attack (assassination, bombing, shooting, explosion, etc)"
   ]
  },
  {
   "cell_type": "code",
   "execution_count": 400,
   "metadata": {
    "hideCode": false,
    "hidePrompt": false
   },
   "outputs": [
    {
     "data": {
      "text/plain": [
       "Armed Assault                  7343\n",
       "Bombing/Explosion              5926\n",
       "Hostage Taking (Kidnapping)    2520\n",
       "Assassination                  1851\n",
       "Unknown                        1736\n",
       "Name: attacktype1_txt, dtype: int64"
      ]
     },
     "execution_count": 400,
     "metadata": {},
     "output_type": "execute_result"
    }
   ],
   "source": [
    "# Checking for attacktype1_txt counts\n",
    "tdf.attacktype1_txt.value_counts().head()"
   ]
  },
  {
   "cell_type": "code",
   "execution_count": 429,
   "metadata": {
    "hideCode": false,
    "hidePrompt": false
   },
   "outputs": [
    {
     "data": {
      "image/png": "[encoded data removed]",
      "text/plain": [
       "<Figure size 576x504 with 1 Axes>"
      ]
     },
     "metadata": {},
     "output_type": "display_data"
    }
   ],
   "source": [
    "# Top 10 attacktype1_txt \n",
    "plt.figure(figsize = [8,7])\n",
    "sns.set_theme(style=\"darkgrid\")\n",
    "tdf['attacktype1_txt'].value_counts()[:10].plot(kind='barh');"
   ]
  },
  {
   "cell_type": "markdown",
   "metadata": {
    "hideCode": false,
    "hidePrompt": false
   },
   "source": [
    "> Armed Assault = 7343, Bombing/Explosion = 5926, and Hostage Taking (Kidnapping) = 2520 are the most common types of assault."
   ]
  },
  {
   "cell_type": "markdown",
   "metadata": {
    "hideCode": false,
    "hidePrompt": false
   },
   "source": [
    "### The main target of the terrorist group"
   ]
  },
  {
   "cell_type": "code",
   "execution_count": 402,
   "metadata": {
    "hideCode": false,
    "hidePrompt": false
   },
   "outputs": [
    {
     "data": {
      "text/plain": [
       "Private Citizens & Property    7042\n",
       "Military                       3925\n",
       "Government (General)           2435\n",
       "Police                         1716\n",
       "Business                       1386\n",
       "Name: targtype1_txt, dtype: int64"
      ]
     },
     "execution_count": 402,
     "metadata": {},
     "output_type": "execute_result"
    }
   ],
   "source": [
    "# Checking for targtype1_txt counts\n",
    "tdf.targtype1_txt.value_counts().head()"
   ]
  },
  {
   "cell_type": "code",
   "execution_count": 430,
   "metadata": {
    "hideCode": false,
    "hidePrompt": false
   },
   "outputs": [
    {
     "data": {
      "image/png": "[encoded data removed]",
      "text/plain": [
       "<Figure size 576x504 with 1 Axes>"
      ]
     },
     "metadata": {},
     "output_type": "display_data"
    }
   ],
   "source": [
    "# Top 10 targtype1_txt organzation\n",
    "plt.figure(figsize = [8,7])\n",
    "sns.set_theme(style=\"darkgrid\")\n",
    "tdf['targtype1_txt'].value_counts()[:10].plot(kind='barh');"
   ]
  },
  {
   "cell_type": "markdown",
   "metadata": {
    "hideCode": false,
    "hidePrompt": false
   },
   "source": [
    "> The *Private Citizens & Property = 7042*, *Military = 3925*, and the *Government (General) = 2435* are the major targets of their attacks."
   ]
  },
  {
   "cell_type": "markdown",
   "metadata": {
    "hideCode": false,
    "hidePrompt": false
   },
   "source": [
    "### The Subgroup target of the terrorist group"
   ]
  },
  {
   "cell_type": "code",
   "execution_count": 490,
   "metadata": {
    "hideCode": false,
    "hidePrompt": false
   },
   "outputs": [
    {
     "data": {
      "text/plain": [
       "Village/City/Town/Suburb                                   2377\n",
       "Unnamed Civilian/Unspecified                               1767\n",
       "Military Personnel (soldiers, troops, officers, forces)    1297\n",
       "Military Barracks/Base/Headquarters/Checkpost              1209\n",
       "Government Personnel (excluding police, military)           891\n",
       "Name: targsubtype1_txt, dtype: int64"
      ]
     },
     "execution_count": 490,
     "metadata": {},
     "output_type": "execute_result"
    }
   ],
   "source": [
    "# Checking for targsubtype1_txt counts\n",
    "tdf.targsubtype1_txt.value_counts().head()"
   ]
  },
  {
   "cell_type": "code",
   "execution_count": 431,
   "metadata": {
    "hideCode": false,
    "hidePrompt": false
   },
   "outputs": [
    {
     "data": {
      "image/png": "[encoded data removed]",
      "text/plain": [
       "<Figure size 576x504 with 1 Axes>"
      ]
     },
     "metadata": {},
     "output_type": "display_data"
    }
   ],
   "source": [
    "# Top 20 targtype1_txt organzation\n",
    "plt.figure(figsize = [8,7])\n",
    "sns.set_theme(style=\"darkgrid\")\n",
    "tdf['targsubtype1_txt'].value_counts()[:20].plot(kind='barh');"
   ]
  },
  {
   "cell_type": "markdown",
   "metadata": {
    "hideCode": false,
    "hidePrompt": false
   },
   "source": [
    "> Village/City/Town/Suburb = 2377, Unnamed Civilian/Unspecified = 1767, Military Personnel (soldiers, troops, officers, forces)=1297' Military Barracks/Base/Headquarters/Checkpost=1209, and Government Personnel (excluding police, military)=891 are the primary targeted subgroups."
   ]
  },
  {
   "cell_type": "markdown",
   "metadata": {
    "hideCode": false,
    "hidePrompt": false
   },
   "source": [
    "### Name of the group that carried out the attack"
   ]
  },
  {
   "cell_type": "code",
   "execution_count": 409,
   "metadata": {
    "hideCode": false,
    "hidePrompt": false
   },
   "outputs": [
    {
     "data": {
      "text/plain": [
       "Unknown                                     7004\n",
       "Al-Shabaab                                  4028\n",
       "Boko Haram                                  2867\n",
       "Fulani extremists                            861\n",
       "African National Congress (South Africa)     584\n",
       "Name: gname, dtype: int64"
      ]
     },
     "execution_count": 409,
     "metadata": {},
     "output_type": "execute_result"
    }
   ],
   "source": [
    " # Checking for gname  counts\n",
    "tdf.gname.value_counts().head()"
   ]
  },
  {
   "cell_type": "code",
   "execution_count": 432,
   "metadata": {
    "hideCode": false,
    "hidePrompt": false
   },
   "outputs": [
    {
     "data": {
      "image/png": "[encoded data removed]",
      "text/plain": [
       "<Figure size 576x504 with 1 Axes>"
      ]
     },
     "metadata": {},
     "output_type": "display_data"
    }
   ],
   "source": [
    "# Top 10 gname\n",
    "plt.figure(figsize = [8,7])\n",
    "sns.set_theme(style=\"darkgrid\")\n",
    "tdf['gname'].value_counts()[:10].plot(kind='barh');"
   ]
  },
  {
   "cell_type": "markdown",
   "metadata": {
    "hideCode": false,
    "hidePrompt": false
   },
   "source": [
    ">Unknown = 7004, Al-Shabaab = 4028, and Boko Haram = 2867 are the main perpetrators of these assaults."
   ]
  },
  {
   "cell_type": "markdown",
   "metadata": {
    "hideCode": false,
    "hidePrompt": false
   },
   "source": [
    "### The weapon type 1 used by the terrorists"
   ]
  },
  {
   "cell_type": "code",
   "execution_count": 411,
   "metadata": {
    "hideCode": false,
    "hidePrompt": false
   },
   "outputs": [
    {
     "data": {
      "text/plain": [
       "Firearms      9318\n",
       "Explosives    6820\n",
       "Unknown       2978\n",
       "Incendiary     981\n",
       "Melee          595\n",
       "Name: weaptype1_txt, dtype: int64"
      ]
     },
     "execution_count": 411,
     "metadata": {},
     "output_type": "execute_result"
    }
   ],
   "source": [
    "# Checking for weaptype1_txt   counts\n",
    "tdf.weaptype1_txt .value_counts().head()"
   ]
  },
  {
   "cell_type": "code",
   "execution_count": 493,
   "metadata": {
    "hideCode": false,
    "hidePrompt": false
   },
   "outputs": [
    {
     "data": {
      "image/png": "[encoded data removed]",
      "text/plain": [
       "<Figure size 576x504 with 1 Axes>"
      ]
     },
     "metadata": {},
     "output_type": "display_data"
    }
   ],
   "source": [
    "# Top 7 weaptype1_txt\n",
    "plt.figure(figsize = [8,7])\n",
    "sns.set_theme(style=\"darkgrid\")\n",
    "tdf['weaptype1_txt'].value_counts()[:7].plot(kind='barh');"
   ]
  },
  {
   "cell_type": "markdown",
   "metadata": {
    "hideCode": false,
    "hidePrompt": false
   },
   "source": [
    "> Firearms=9318, Explosives=6820, and Unknown=2978 were the most often utilized weapons by the terrorists."
   ]
  },
  {
   "cell_type": "markdown",
   "metadata": {
    "hideCode": false,
    "hidePrompt": false
   },
   "source": [
    "### The Subweapon type 1 used by the terrorists"
   ]
  },
  {
   "cell_type": "code",
   "execution_count": 415,
   "metadata": {
    "hideCode": false,
    "hidePrompt": false
   },
   "outputs": [
    {
     "data": {
      "text/plain": [
       "Unknown Gun Type                             7114\n",
       "Unknown Explosive Type                       2277\n",
       "Automatic or Semi-Automatic Rifle            1492\n",
       "Grenade                                      1030\n",
       "Projectile (rockets, mortars, RPGs, etc.)    1008\n",
       "Name: weapsubtype1_txt, dtype: int64"
      ]
     },
     "execution_count": 415,
     "metadata": {},
     "output_type": "execute_result"
    }
   ],
   "source": [
    "# Checking for weapsubtype1_txt   counts\n",
    "tdf.weapsubtype1_txt.value_counts().head()"
   ]
  },
  {
   "cell_type": "code",
   "execution_count": 434,
   "metadata": {
    "hideCode": false,
    "hidePrompt": false
   },
   "outputs": [
    {
     "data": {
      "image/png": "[encoded data removed]",
      "text/plain": [
       "<Figure size 576x504 with 1 Axes>"
      ]
     },
     "metadata": {},
     "output_type": "display_data"
    }
   ],
   "source": [
    "# Top 10 weapsubtype1_txt\n",
    "plt.figure(figsize = [8,7])\n",
    "sns.set_theme(style=\"darkgrid\")\n",
    "tdf['weapsubtype1_txt'].value_counts()[:10].plot(kind='barh');"
   ]
  },
  {
   "cell_type": "markdown",
   "metadata": {
    "hideCode": false,
    "hidePrompt": false
   },
   "source": [
    "> Unknown Gun Type = 7114, Unknown Explosive Type=2277, and Automatic or Semi-Automatic Rifle=1492 are the subweapon types employed by the terrorist."
   ]
  },
  {
   "cell_type": "markdown",
   "metadata": {
    "hideCode": false,
    "hidePrompt": false
   },
   "source": [
    "### The weapon type 2 used by the terrorists"
   ]
  },
  {
   "cell_type": "code",
   "execution_count": 417,
   "metadata": {
    "hideCode": false,
    "hidePrompt": false
   },
   "outputs": [
    {
     "data": {
      "text/plain": [
       "Incendiary    1120\n",
       "Firearms      1111\n",
       "Melee          529\n",
       "Explosives     285\n",
       "Unknown        281\n",
       "Name: weaptype2_txt, dtype: int64"
      ]
     },
     "execution_count": 417,
     "metadata": {},
     "output_type": "execute_result"
    }
   ],
   "source": [
    "# Checking for weaptype2_txt   counts\n",
    "tdf.weaptype2_txt.value_counts().head()"
   ]
  },
  {
   "cell_type": "code",
   "execution_count": 435,
   "metadata": {
    "hideCode": false,
    "hidePrompt": false
   },
   "outputs": [
    {
     "data": {
      "image/png": "[encoded data removed]",
      "text/plain": [
       "<Figure size 576x504 with 1 Axes>"
      ]
     },
     "metadata": {},
     "output_type": "display_data"
    }
   ],
   "source": [
    "# Top 10 weaptype2_txt\n",
    "plt.figure(figsize = [8,7])\n",
    "sns.set_theme(style=\"darkgrid\")\n",
    "tdf['weaptype2_txt'].value_counts()[:10].plot(kind='barh');"
   ]
  },
  {
   "cell_type": "markdown",
   "metadata": {
    "hideCode": false,
    "hidePrompt": false
   },
   "source": [
    "> Incendiary = 1120, Firearms = 1111, and Melee = 529 are the most common type 2 weapons they employed."
   ]
  },
  {
   "cell_type": "markdown",
   "metadata": {
    "hideCode": false,
    "hidePrompt": false
   },
   "source": [
    "### The Subweapon type 2 used by the terrorists"
   ]
  },
  {
   "cell_type": "code",
   "execution_count": 419,
   "metadata": {
    "hideCode": false,
    "hidePrompt": false
   },
   "outputs": [
    {
     "data": {
      "text/plain": [
       "Arson/Fire                                   1017\n",
       "Unknown Gun Type                              713\n",
       "Knife or Other Sharp Object                   395\n",
       "Automatic or Semi-Automatic Rifle             324\n",
       "Projectile (rockets, mortars, RPGs, etc.)      97\n",
       "Name: weapsubtype2_txt, dtype: int64"
      ]
     },
     "execution_count": 419,
     "metadata": {},
     "output_type": "execute_result"
    }
   ],
   "source": [
    "# Checking for weapsubtype2_txt counts\n",
    "tdf.weapsubtype2_txt.value_counts().head()"
   ]
  },
  {
   "cell_type": "code",
   "execution_count": 436,
   "metadata": {
    "hideCode": false,
    "hidePrompt": false
   },
   "outputs": [
    {
     "data": {
      "image/png": "[encoded data removed]",
      "text/plain": [
       "<Figure size 576x504 with 1 Axes>"
      ]
     },
     "metadata": {},
     "output_type": "display_data"
    }
   ],
   "source": [
    "# Top 10 weapsubtype2_txt\n",
    "plt.figure(figsize = [8,7])\n",
    "sns.set_theme(style=\"darkgrid\")\n",
    "tdf['weapsubtype2_txt'].value_counts()[:10].plot(kind='barh');"
   ]
  },
  {
   "cell_type": "markdown",
   "metadata": {
    "hideCode": false,
    "hidePrompt": false
   },
   "source": [
    ">  Arson/Fire  = 1017, Unknown Gun Type = 713 and Knife or Other Sharp Object =395 are the  subweapon type 2 mostly used by the terrorists"
   ]
  },
  {
   "cell_type": "markdown",
   "metadata": {
    "hideCode": false,
    "hidePrompt": false
   },
   "source": [
    "### The Nationality of the terrorists"
   ]
  },
  {
   "cell_type": "code",
   "execution_count": 421,
   "metadata": {
    "hideCode": false,
    "hidePrompt": false
   },
   "outputs": [
    {
     "data": {
      "text/plain": [
       "Nigeria                             4634\n",
       "Somalia                             3784\n",
       "South Africa                        1942\n",
       "International                       1438\n",
       "Democratic Republic of the Congo    1027\n",
       "Name: natlty1_txt, dtype: int64"
      ]
     },
     "execution_count": 421,
     "metadata": {},
     "output_type": "execute_result"
    }
   ],
   "source": [
    "# Checking for natlty1_txt counts\n",
    "tdf.natlty1_txt.value_counts().head()"
   ]
  },
  {
   "cell_type": "code",
   "execution_count": 437,
   "metadata": {
    "hideCode": false,
    "hidePrompt": false
   },
   "outputs": [
    {
     "data": {
      "image/png": "[encoded data removed]",
      "text/plain": [
       "<Figure size 576x504 with 1 Axes>"
      ]
     },
     "metadata": {},
     "output_type": "display_data"
    }
   ],
   "source": [
    "# Top 10 natlty1_txt\n",
    "plt.figure(figsize = [8,7])\n",
    "sns.set_theme(style=\"darkgrid\")\n",
    "tdf['natlty1_txt'].value_counts()[:10].plot(kind='barh');"
   ]
  },
  {
   "cell_type": "markdown",
   "metadata": {
    "hideCode": false,
    "hidePrompt": false
   },
   "source": [
    ">The majority of terrorist organizations are based in these three countries: Nigeria (4634), Somalia (3784), and South Africa (1942)."
   ]
  },
  {
   "cell_type": "markdown",
   "metadata": {
    "hideCode": false,
    "hidePrompt": false
   },
   "source": [
    "# Machine Learning"
   ]
  },
  {
   "cell_type": "markdown",
   "metadata": {
    "hideCode": false,
    "hidePrompt": false
   },
   "source": [
    "### Spliting the dataset into  training data and testing data"
   ]
  },
  {
   "cell_type": "code",
   "execution_count": 445,
   "metadata": {
    "hideCode": false,
    "hidePrompt": false
   },
   "outputs": [],
   "source": [
    "# Seprating the target (y) from  the features (X) dataset \n",
    "y =tdf.success\n",
    "X =tdf.drop(['success', 'iyear', 'imonth', 'iday',\n",
    "                    'country_txt','attacktype1_txt', 'targtype1_txt' ,  'targsubtype1_txt',\n",
    "                    'target1', 'natlty1_txt', 'gname', 'weaptype1_txt',\n",
    "                    'weapsubtype1_txt', 'weaptype2_txt',  'weapsubtype2_txt'], axis = 1)"
   ]
  },
  {
   "cell_type": "code",
   "execution_count": 446,
   "metadata": {
    "hideCode": false,
    "hidePrompt": false
   },
   "outputs": [
    {
     "data": {
      "text/plain": [
       "0    succeeded\n",
       "1    succeeded\n",
       "2    succeeded\n",
       "3    succeeded\n",
       "4    succeeded\n",
       "Name: success, dtype: object"
      ]
     },
     "execution_count": 446,
     "metadata": {},
     "output_type": "execute_result"
    }
   ],
   "source": [
    "#checking the first 5 values on the target variable\n",
    "y.head()"
   ]
  },
  {
   "cell_type": "code",
   "execution_count": 497,
   "metadata": {
    "hideCode": false,
    "hidePrompt": false
   },
   "outputs": [
    {
     "data": {
      "text/html": [
       "<div>\n",
       "<style scoped>\n",
       "    .dataframe tbody tr th:only-of-type {\n",
       "        vertical-align: middle;\n",
       "    }\n",
       "\n",
       "    .dataframe tbody tr th {\n",
       "        vertical-align: top;\n",
       "    }\n",
       "\n",
       "    .dataframe thead th {\n",
       "        text-align: right;\n",
       "    }\n",
       "</style>\n",
       "<table border=\"1\" class=\"dataframe\">\n",
       "  <thead>\n",
       "    <tr style=\"text-align: right;\">\n",
       "      <th></th>\n",
       "      <th>latitude</th>\n",
       "      <th>longitude</th>\n",
       "      <th>crit1</th>\n",
       "      <th>crit2</th>\n",
       "      <th>crit3</th>\n",
       "      <th>doubtterr</th>\n",
       "      <th>suicide</th>\n",
       "      <th>nkill</th>\n",
       "      <th>nwound</th>\n",
       "      <th>property</th>\n",
       "      <th>ishostkid</th>\n",
       "      <th>INT_LOG</th>\n",
       "      <th>INT_IDEO</th>\n",
       "      <th>INT_MISC</th>\n",
       "      <th>INT_ANY</th>\n",
       "    </tr>\n",
       "  </thead>\n",
       "  <tbody>\n",
       "    <tr>\n",
       "      <th>0</th>\n",
       "      <td>2.000000</td>\n",
       "      <td>25.000000</td>\n",
       "      <td>1</td>\n",
       "      <td>1</td>\n",
       "      <td>0</td>\n",
       "      <td>1</td>\n",
       "      <td>0</td>\n",
       "      <td>1.0</td>\n",
       "      <td>0.0</td>\n",
       "      <td>0</td>\n",
       "      <td>0</td>\n",
       "      <td>0</td>\n",
       "      <td>1</td>\n",
       "      <td>1</td>\n",
       "      <td>1</td>\n",
       "    </tr>\n",
       "    <tr>\n",
       "      <th>1</th>\n",
       "      <td>2.000000</td>\n",
       "      <td>25.000000</td>\n",
       "      <td>1</td>\n",
       "      <td>1</td>\n",
       "      <td>1</td>\n",
       "      <td>0</td>\n",
       "      <td>0</td>\n",
       "      <td>0.0</td>\n",
       "      <td>0.0</td>\n",
       "      <td>0</td>\n",
       "      <td>1</td>\n",
       "      <td>0</td>\n",
       "      <td>1</td>\n",
       "      <td>1</td>\n",
       "      <td>1</td>\n",
       "    </tr>\n",
       "    <tr>\n",
       "      <th>2</th>\n",
       "      <td>2.000000</td>\n",
       "      <td>25.000000</td>\n",
       "      <td>1</td>\n",
       "      <td>1</td>\n",
       "      <td>1</td>\n",
       "      <td>0</td>\n",
       "      <td>0</td>\n",
       "      <td>0.0</td>\n",
       "      <td>0.0</td>\n",
       "      <td>0</td>\n",
       "      <td>1</td>\n",
       "      <td>0</td>\n",
       "      <td>1</td>\n",
       "      <td>1</td>\n",
       "      <td>1</td>\n",
       "    </tr>\n",
       "    <tr>\n",
       "      <th>3</th>\n",
       "      <td>2.000000</td>\n",
       "      <td>25.000000</td>\n",
       "      <td>1</td>\n",
       "      <td>1</td>\n",
       "      <td>1</td>\n",
       "      <td>0</td>\n",
       "      <td>0</td>\n",
       "      <td>1.0</td>\n",
       "      <td>0.0</td>\n",
       "      <td>0</td>\n",
       "      <td>1</td>\n",
       "      <td>1</td>\n",
       "      <td>1</td>\n",
       "      <td>1</td>\n",
       "      <td>1</td>\n",
       "    </tr>\n",
       "    <tr>\n",
       "      <th>4</th>\n",
       "      <td>11.583513</td>\n",
       "      <td>37.397019</td>\n",
       "      <td>1</td>\n",
       "      <td>1</td>\n",
       "      <td>1</td>\n",
       "      <td>0</td>\n",
       "      <td>0</td>\n",
       "      <td>0.0</td>\n",
       "      <td>0.0</td>\n",
       "      <td>0</td>\n",
       "      <td>1</td>\n",
       "      <td>0</td>\n",
       "      <td>0</td>\n",
       "      <td>0</td>\n",
       "      <td>0</td>\n",
       "    </tr>\n",
       "  </tbody>\n",
       "</table>\n",
       "</div>"
      ],
      "text/plain": [
       "    latitude  longitude  crit1  crit2  crit3  doubtterr  suicide  nkill  \\\n",
       "0   2.000000  25.000000      1      1      0          1        0    1.0   \n",
       "1   2.000000  25.000000      1      1      1          0        0    0.0   \n",
       "2   2.000000  25.000000      1      1      1          0        0    0.0   \n",
       "3   2.000000  25.000000      1      1      1          0        0    1.0   \n",
       "4  11.583513  37.397019      1      1      1          0        0    0.0   \n",
       "\n",
       "   nwound  property  ishostkid  INT_LOG  INT_IDEO  INT_MISC  INT_ANY  \n",
       "0     0.0         0          0        0         1         1        1  \n",
       "1     0.0         0          1        0         1         1        1  \n",
       "2     0.0         0          1        0         1         1        1  \n",
       "3     0.0         0          1        1         1         1        1  \n",
       "4     0.0         0          1        0         0         0        0  "
      ]
     },
     "execution_count": 497,
     "metadata": {},
     "output_type": "execute_result"
    }
   ],
   "source": [
    "#checking the first 5 values on the feature variables\n",
    "X.head()"
   ]
  },
  {
   "cell_type": "code",
   "execution_count": 499,
   "metadata": {
    "hideCode": false,
    "hidePrompt": false
   },
   "outputs": [],
   "source": [
    "#Split dataset into train and test set\n",
    "X_train, X_test, y_train, y_test = train_test_split(X, y, \n",
    "                                                    train_size=0.7, \n",
    "                                                    test_size=0.3, \n",
    "                                                    random_state=100)"
   ]
  },
  {
   "cell_type": "code",
   "execution_count": 500,
   "metadata": {
    "hideCode": false,
    "hidePrompt": false
   },
   "outputs": [
    {
     "name": "stdout",
     "output_type": "stream",
     "text": [
      "Number of succeeded attack in the train dataset: Counter({'succeeded': 13377, 'failed': 1140})\n",
      "Number of succeeded attack in the test dataset: Counter({'succeeded': 5737, 'failed': 485})\n"
     ]
    }
   ],
   "source": [
    "# Checking Number of succeeded/failed attack in both the train and test dataset after splitting\n",
    "from collections import Counter\n",
    "print ('Number of succeeded attack in the train dataset:', Counter(y_train))\n",
    "print ('Number of succeeded attack in the test dataset:', Counter(y_test))"
   ]
  },
  {
   "cell_type": "code",
   "execution_count": 501,
   "metadata": {
    "hideCode": false,
    "hidePrompt": false
   },
   "outputs": [],
   "source": [
    "#standaization\n",
    "scaler = StandardScaler()\n",
    "scaler.fit(X_train)\n",
    "X_train = scaler.transform(X_train)\n",
    "X_test = scaler.transform(X_test)"
   ]
  },
  {
   "cell_type": "markdown",
   "metadata": {
    "hideCode": false,
    "hidePrompt": false
   },
   "source": [
    "## Model Training "
   ]
  },
  {
   "cell_type": "markdown",
   "metadata": {
    "hideCode": false,
    "hidePrompt": false
   },
   "source": [
    "**Precision:** The precision is intuitively the ability of the classifier not to label as positive a sample that is negative.\n",
    "\n",
    "**Recall:** The recall is intuitively the ability of the classifier to find all the positive samples.\n",
    "\n",
    "**F1-Score:** The f1-score gives you the harmonic mean of precision and recall.\n",
    "\n",
    "**Support:** The support is the number of true response occurrences that lie in each class.\n",
    "\n",
    "**Accuracy:**  defines how capable the classification model (classifier) is. "
   ]
  },
  {
   "cell_type": "markdown",
   "metadata": {
    "hideCode": false,
    "hidePrompt": false
   },
   "source": [
    "### I. Logistic Regression"
   ]
  },
  {
   "cell_type": "code",
   "execution_count": 519,
   "metadata": {
    "hideCode": false,
    "hidePrompt": false
   },
   "outputs": [],
   "source": [
    "# Logistic classifier\n",
    "logreg =  LogisticRegression(solver='liblinear')"
   ]
  },
  {
   "cell_type": "code",
   "execution_count": 520,
   "metadata": {
    "hideCode": false,
    "hidePrompt": false
   },
   "outputs": [],
   "source": [
    "# Model\n",
    "lmodel= logreg.fit(X_train,y_train)"
   ]
  },
  {
   "cell_type": "code",
   "execution_count": 521,
   "metadata": {
    "hideCode": false,
    "hidePrompt": false
   },
   "outputs": [
    {
     "name": "stdout",
     "output_type": "stream",
     "text": [
      "Accuracy: 0.9214713783839636\n"
     ]
    }
   ],
   "source": [
    "# Model Score for train dataset\n",
    "print(\"Accuracy:\",lmodel.score(X_train,y_train))"
   ]
  },
  {
   "cell_type": "code",
   "execution_count": 522,
   "metadata": {
    "hideCode": false,
    "hidePrompt": false
   },
   "outputs": [
    {
     "name": "stdout",
     "output_type": "stream",
     "text": [
      "Accuracy: 0.922050787528126\n"
     ]
    }
   ],
   "source": [
    "# Model Score for test dataset\n",
    "print(\"Accuracy:\",lmodel.score(X_test,y_test))"
   ]
  },
  {
   "cell_type": "code",
   "execution_count": 523,
   "metadata": {
    "hideCode": false,
    "hidePrompt": false
   },
   "outputs": [
    {
     "name": "stdout",
     "output_type": "stream",
     "text": [
      "              precision    recall  f1-score   support\n",
      "\n",
      "      failed       0.00      0.00      0.00       485\n",
      "   succeeded       0.92      1.00      0.96      5737\n",
      "\n",
      "    accuracy                           0.92      6222\n",
      "   macro avg       0.46      0.50      0.48      6222\n",
      "weighted avg       0.85      0.92      0.88      6222\n",
      "\n"
     ]
    }
   ],
   "source": [
    "# Logistic Regression model prediction and report\n",
    "y_pred = lmodel.predict(X_test)\n",
    "log_accuracy = accuracy_score(y_test,y_pred)*100\n",
    "print(classification_report(y_test,y_pred, zero_division=0))"
   ]
  },
  {
   "cell_type": "markdown",
   "metadata": {
    "hideCode": false,
    "hidePrompt": false
   },
   "source": [
    ">The above output shows the performance of the model on testing data. The accuracy and the F1 score is around 0.92 and 0.96 repectively."
   ]
  },
  {
   "cell_type": "code",
   "execution_count": 524,
   "metadata": {
    "hideCode": false,
    "hidePrompt": false
   },
   "outputs": [],
   "source": [
    "#model prediction comparism \n",
    "compare_result=pd.DataFrame()\n",
    "compare_result[\"Actual\"]=y_test\n",
    "compare_result[\"Predicted\"]=lmodel.predict(X_test)"
   ]
  },
  {
   "cell_type": "code",
   "execution_count": 525,
   "metadata": {
    "hideCode": false,
    "hidePrompt": false
   },
   "outputs": [
    {
     "data": {
      "text/html": [
       "<div>\n",
       "<style scoped>\n",
       "    .dataframe tbody tr th:only-of-type {\n",
       "        vertical-align: middle;\n",
       "    }\n",
       "\n",
       "    .dataframe tbody tr th {\n",
       "        vertical-align: top;\n",
       "    }\n",
       "\n",
       "    .dataframe thead th {\n",
       "        text-align: right;\n",
       "    }\n",
       "</style>\n",
       "<table border=\"1\" class=\"dataframe\">\n",
       "  <thead>\n",
       "    <tr style=\"text-align: right;\">\n",
       "      <th></th>\n",
       "      <th>Actual</th>\n",
       "      <th>Predicted</th>\n",
       "    </tr>\n",
       "  </thead>\n",
       "  <tbody>\n",
       "    <tr>\n",
       "      <th>19094</th>\n",
       "      <td>succeeded</td>\n",
       "      <td>succeeded</td>\n",
       "    </tr>\n",
       "    <tr>\n",
       "      <th>1496</th>\n",
       "      <td>succeeded</td>\n",
       "      <td>succeeded</td>\n",
       "    </tr>\n",
       "    <tr>\n",
       "      <th>4849</th>\n",
       "      <td>succeeded</td>\n",
       "      <td>succeeded</td>\n",
       "    </tr>\n",
       "    <tr>\n",
       "      <th>6831</th>\n",
       "      <td>failed</td>\n",
       "      <td>succeeded</td>\n",
       "    </tr>\n",
       "    <tr>\n",
       "      <th>6244</th>\n",
       "      <td>succeeded</td>\n",
       "      <td>succeeded</td>\n",
       "    </tr>\n",
       "    <tr>\n",
       "      <th>...</th>\n",
       "      <td>...</td>\n",
       "      <td>...</td>\n",
       "    </tr>\n",
       "    <tr>\n",
       "      <th>12573</th>\n",
       "      <td>succeeded</td>\n",
       "      <td>succeeded</td>\n",
       "    </tr>\n",
       "    <tr>\n",
       "      <th>20359</th>\n",
       "      <td>succeeded</td>\n",
       "      <td>succeeded</td>\n",
       "    </tr>\n",
       "    <tr>\n",
       "      <th>7644</th>\n",
       "      <td>succeeded</td>\n",
       "      <td>succeeded</td>\n",
       "    </tr>\n",
       "    <tr>\n",
       "      <th>2356</th>\n",
       "      <td>succeeded</td>\n",
       "      <td>succeeded</td>\n",
       "    </tr>\n",
       "    <tr>\n",
       "      <th>17719</th>\n",
       "      <td>succeeded</td>\n",
       "      <td>succeeded</td>\n",
       "    </tr>\n",
       "  </tbody>\n",
       "</table>\n",
       "<p>6222 rows × 2 columns</p>\n",
       "</div>"
      ],
      "text/plain": [
       "          Actual  Predicted\n",
       "19094  succeeded  succeeded\n",
       "1496   succeeded  succeeded\n",
       "4849   succeeded  succeeded\n",
       "6831      failed  succeeded\n",
       "6244   succeeded  succeeded\n",
       "...          ...        ...\n",
       "12573  succeeded  succeeded\n",
       "20359  succeeded  succeeded\n",
       "7644   succeeded  succeeded\n",
       "2356   succeeded  succeeded\n",
       "17719  succeeded  succeeded\n",
       "\n",
       "[6222 rows x 2 columns]"
      ]
     },
     "execution_count": 525,
     "metadata": {},
     "output_type": "execute_result"
    }
   ],
   "source": [
    "compare_result"
   ]
  },
  {
   "cell_type": "markdown",
   "metadata": {
    "hideCode": false,
    "hidePrompt": false
   },
   "source": [
    "> Although the accuracy is excellent, it predicted index **6831**, whose actual value is *failed* as opposed to *successful*. "
   ]
  },
  {
   "cell_type": "markdown",
   "metadata": {
    "hideCode": false,
    "hidePrompt": false
   },
   "source": [
    "### II. Naive Bayes"
   ]
  },
  {
   "cell_type": "code",
   "execution_count": 459,
   "metadata": {
    "hideCode": false,
    "hidePrompt": false
   },
   "outputs": [],
   "source": [
    "# Naive Bayes classifier\n",
    "nai_bay = GaussianNB()"
   ]
  },
  {
   "cell_type": "code",
   "execution_count": 460,
   "metadata": {
    "hideCode": false,
    "hidePrompt": false
   },
   "outputs": [],
   "source": [
    "# Model\n",
    "nmodel= nai_bay.fit(X_train,y_train)"
   ]
  },
  {
   "cell_type": "code",
   "execution_count": 461,
   "metadata": {
    "hideCode": false,
    "hidePrompt": false
   },
   "outputs": [
    {
     "name": "stdout",
     "output_type": "stream",
     "text": [
      "Accuracy: 0.33353998760074394\n"
     ]
    }
   ],
   "source": [
    "# Model Score for train dataset\n",
    "print(\"Accuracy:\",nmodel.score(X_train,y_train))"
   ]
  },
  {
   "cell_type": "code",
   "execution_count": 462,
   "metadata": {
    "hideCode": false,
    "hidePrompt": false
   },
   "outputs": [
    {
     "name": "stdout",
     "output_type": "stream",
     "text": [
      "Accuracy: 0.33445837351333974\n"
     ]
    }
   ],
   "source": [
    "# Model Score for test dataset\n",
    "print(\"Accuracy:\",nmodel.score(X_test,y_test))"
   ]
  },
  {
   "cell_type": "code",
   "execution_count": 464,
   "metadata": {
    "hideCode": false,
    "hidePrompt": false
   },
   "outputs": [
    {
     "name": "stdout",
     "output_type": "stream",
     "text": [
      "              precision    recall  f1-score   support\n",
      "\n",
      "      failed       0.10      0.90      0.17       485\n",
      "   succeeded       0.97      0.29      0.44      5737\n",
      "\n",
      "    accuracy                           0.33      6222\n",
      "   macro avg       0.53      0.59      0.31      6222\n",
      "weighted avg       0.90      0.33      0.42      6222\n",
      "\n"
     ]
    }
   ],
   "source": [
    "# Naive Bayes model prediction and report\n",
    "y_pred = nmodel.predict(X_test)\n",
    "naive_accuracy = accuracy_score(y_test,y_pred)*100\n",
    "print(classification_report(y_test,y_pred,zero_division=0))"
   ]
  },
  {
   "cell_type": "markdown",
   "metadata": {
    "hideCode": false,
    "hidePrompt": false
   },
   "source": [
    ">The above output shows the performance of the model on testing data. The accuracy and the F1 score is around 0.33 and 0.44 repectively."
   ]
  },
  {
   "cell_type": "code",
   "execution_count": 526,
   "metadata": {
    "hideCode": false,
    "hidePrompt": false
   },
   "outputs": [],
   "source": [
    "#model prediction comparism \n",
    "compare_result=pd.DataFrame()\n",
    "compare_result[\"Actual\"]=y_test\n",
    "compare_result[\"Predicted\"]=nmodel.predict(X_test)"
   ]
  },
  {
   "cell_type": "code",
   "execution_count": 527,
   "metadata": {
    "hideCode": false,
    "hidePrompt": false
   },
   "outputs": [
    {
     "data": {
      "text/html": [
       "<div>\n",
       "<style scoped>\n",
       "    .dataframe tbody tr th:only-of-type {\n",
       "        vertical-align: middle;\n",
       "    }\n",
       "\n",
       "    .dataframe tbody tr th {\n",
       "        vertical-align: top;\n",
       "    }\n",
       "\n",
       "    .dataframe thead th {\n",
       "        text-align: right;\n",
       "    }\n",
       "</style>\n",
       "<table border=\"1\" class=\"dataframe\">\n",
       "  <thead>\n",
       "    <tr style=\"text-align: right;\">\n",
       "      <th></th>\n",
       "      <th>Actual</th>\n",
       "      <th>Predicted</th>\n",
       "    </tr>\n",
       "  </thead>\n",
       "  <tbody>\n",
       "    <tr>\n",
       "      <th>19094</th>\n",
       "      <td>succeeded</td>\n",
       "      <td>failed</td>\n",
       "    </tr>\n",
       "    <tr>\n",
       "      <th>1496</th>\n",
       "      <td>succeeded</td>\n",
       "      <td>failed</td>\n",
       "    </tr>\n",
       "    <tr>\n",
       "      <th>4849</th>\n",
       "      <td>succeeded</td>\n",
       "      <td>failed</td>\n",
       "    </tr>\n",
       "    <tr>\n",
       "      <th>6831</th>\n",
       "      <td>failed</td>\n",
       "      <td>failed</td>\n",
       "    </tr>\n",
       "    <tr>\n",
       "      <th>6244</th>\n",
       "      <td>succeeded</td>\n",
       "      <td>failed</td>\n",
       "    </tr>\n",
       "    <tr>\n",
       "      <th>...</th>\n",
       "      <td>...</td>\n",
       "      <td>...</td>\n",
       "    </tr>\n",
       "    <tr>\n",
       "      <th>12573</th>\n",
       "      <td>succeeded</td>\n",
       "      <td>failed</td>\n",
       "    </tr>\n",
       "    <tr>\n",
       "      <th>20359</th>\n",
       "      <td>succeeded</td>\n",
       "      <td>failed</td>\n",
       "    </tr>\n",
       "    <tr>\n",
       "      <th>7644</th>\n",
       "      <td>succeeded</td>\n",
       "      <td>failed</td>\n",
       "    </tr>\n",
       "    <tr>\n",
       "      <th>2356</th>\n",
       "      <td>succeeded</td>\n",
       "      <td>succeeded</td>\n",
       "    </tr>\n",
       "    <tr>\n",
       "      <th>17719</th>\n",
       "      <td>succeeded</td>\n",
       "      <td>failed</td>\n",
       "    </tr>\n",
       "  </tbody>\n",
       "</table>\n",
       "<p>6222 rows × 2 columns</p>\n",
       "</div>"
      ],
      "text/plain": [
       "          Actual  Predicted\n",
       "19094  succeeded     failed\n",
       "1496   succeeded     failed\n",
       "4849   succeeded     failed\n",
       "6831      failed     failed\n",
       "6244   succeeded     failed\n",
       "...          ...        ...\n",
       "12573  succeeded     failed\n",
       "20359  succeeded     failed\n",
       "7644   succeeded     failed\n",
       "2356   succeeded  succeeded\n",
       "17719  succeeded     failed\n",
       "\n",
       "[6222 rows x 2 columns]"
      ]
     },
     "execution_count": 527,
     "metadata": {},
     "output_type": "execute_result"
    }
   ],
   "source": [
    "compare_result"
   ]
  },
  {
   "cell_type": "markdown",
   "metadata": {
    "hideCode": false,
    "hidePrompt": false
   },
   "source": [
    ">Because the bulk of the predictions were *failed*, this model has a poor level of prediction accuracy."
   ]
  },
  {
   "cell_type": "markdown",
   "metadata": {
    "hideCode": false,
    "hidePrompt": false
   },
   "source": [
    "### III. Support Vector Machines "
   ]
  },
  {
   "cell_type": "code",
   "execution_count": 537,
   "metadata": {
    "hideCode": false,
    "hidePrompt": false
   },
   "outputs": [],
   "source": [
    "# Support Vector Machines (SVM) classifier\n",
    "svclassifier = SVC()"
   ]
  },
  {
   "cell_type": "code",
   "execution_count": 538,
   "metadata": {
    "hideCode": false,
    "hidePrompt": false
   },
   "outputs": [],
   "source": [
    "# Model\n",
    "svcmodel= svclassifier.fit(X_train,y_train)"
   ]
  },
  {
   "cell_type": "code",
   "execution_count": 539,
   "metadata": {
    "hideCode": false,
    "hidePrompt": false
   },
   "outputs": [
    {
     "name": "stdout",
     "output_type": "stream",
     "text": [
      "Accuracy: 0.9214713783839636\n"
     ]
    }
   ],
   "source": [
    "# Model Score for train dataset\n",
    "print(\"Accuracy:\",svcmodel.score(X_train,y_train))"
   ]
  },
  {
   "cell_type": "code",
   "execution_count": 540,
   "metadata": {
    "hideCode": false,
    "hidePrompt": false
   },
   "outputs": [
    {
     "name": "stdout",
     "output_type": "stream",
     "text": [
      "Accuracy: 0.922050787528126\n"
     ]
    }
   ],
   "source": [
    "# Model Score for test dataset\n",
    "print(\"Accuracy:\",svcmodel.score(X_test,y_test))"
   ]
  },
  {
   "cell_type": "code",
   "execution_count": 541,
   "metadata": {
    "hideCode": false,
    "hidePrompt": false
   },
   "outputs": [
    {
     "name": "stdout",
     "output_type": "stream",
     "text": [
      "              precision    recall  f1-score   support\n",
      "\n",
      "      failed       0.00      0.00      0.00       485\n",
      "   succeeded       0.92      1.00      0.96      5737\n",
      "\n",
      "    accuracy                           0.92      6222\n",
      "   macro avg       0.46      0.50      0.48      6222\n",
      "weighted avg       0.85      0.92      0.88      6222\n",
      "\n"
     ]
    }
   ],
   "source": [
    "# SVM model prediction and report\n",
    "y_pred = svcmodel.predict(X_test)\n",
    "svm_accuracy = accuracy_score(y_test,y_pred)*100\n",
    "print(classification_report(y_test,y_pred,zero_division=0))"
   ]
  },
  {
   "cell_type": "markdown",
   "metadata": {
    "hideCode": false,
    "hidePrompt": false
   },
   "source": [
    ">The above output shows the performance of the model on testing data. The accuracy and the F1 score is around 0.92 and 0.96 repectively."
   ]
  },
  {
   "cell_type": "code",
   "execution_count": 542,
   "metadata": {
    "hideCode": false,
    "hidePrompt": false
   },
   "outputs": [],
   "source": [
    "#model prediction comparism \n",
    "compare_result=pd.DataFrame()\n",
    "compare_result[\"Actual\"]=y_test\n",
    "compare_result[\"Predicted\"]=svcmodel.predict(X_test)"
   ]
  },
  {
   "cell_type": "code",
   "execution_count": 543,
   "metadata": {
    "hideCode": false,
    "hidePrompt": false
   },
   "outputs": [
    {
     "data": {
      "text/html": [
       "<div>\n",
       "<style scoped>\n",
       "    .dataframe tbody tr th:only-of-type {\n",
       "        vertical-align: middle;\n",
       "    }\n",
       "\n",
       "    .dataframe tbody tr th {\n",
       "        vertical-align: top;\n",
       "    }\n",
       "\n",
       "    .dataframe thead th {\n",
       "        text-align: right;\n",
       "    }\n",
       "</style>\n",
       "<table border=\"1\" class=\"dataframe\">\n",
       "  <thead>\n",
       "    <tr style=\"text-align: right;\">\n",
       "      <th></th>\n",
       "      <th>Actual</th>\n",
       "      <th>Predicted</th>\n",
       "    </tr>\n",
       "  </thead>\n",
       "  <tbody>\n",
       "    <tr>\n",
       "      <th>19094</th>\n",
       "      <td>succeeded</td>\n",
       "      <td>succeeded</td>\n",
       "    </tr>\n",
       "    <tr>\n",
       "      <th>1496</th>\n",
       "      <td>succeeded</td>\n",
       "      <td>succeeded</td>\n",
       "    </tr>\n",
       "    <tr>\n",
       "      <th>4849</th>\n",
       "      <td>succeeded</td>\n",
       "      <td>succeeded</td>\n",
       "    </tr>\n",
       "    <tr>\n",
       "      <th>6831</th>\n",
       "      <td>failed</td>\n",
       "      <td>succeeded</td>\n",
       "    </tr>\n",
       "    <tr>\n",
       "      <th>6244</th>\n",
       "      <td>succeeded</td>\n",
       "      <td>succeeded</td>\n",
       "    </tr>\n",
       "    <tr>\n",
       "      <th>...</th>\n",
       "      <td>...</td>\n",
       "      <td>...</td>\n",
       "    </tr>\n",
       "    <tr>\n",
       "      <th>12573</th>\n",
       "      <td>succeeded</td>\n",
       "      <td>succeeded</td>\n",
       "    </tr>\n",
       "    <tr>\n",
       "      <th>20359</th>\n",
       "      <td>succeeded</td>\n",
       "      <td>succeeded</td>\n",
       "    </tr>\n",
       "    <tr>\n",
       "      <th>7644</th>\n",
       "      <td>succeeded</td>\n",
       "      <td>succeeded</td>\n",
       "    </tr>\n",
       "    <tr>\n",
       "      <th>2356</th>\n",
       "      <td>succeeded</td>\n",
       "      <td>succeeded</td>\n",
       "    </tr>\n",
       "    <tr>\n",
       "      <th>17719</th>\n",
       "      <td>succeeded</td>\n",
       "      <td>succeeded</td>\n",
       "    </tr>\n",
       "  </tbody>\n",
       "</table>\n",
       "<p>6222 rows × 2 columns</p>\n",
       "</div>"
      ],
      "text/plain": [
       "          Actual  Predicted\n",
       "19094  succeeded  succeeded\n",
       "1496   succeeded  succeeded\n",
       "4849   succeeded  succeeded\n",
       "6831      failed  succeeded\n",
       "6244   succeeded  succeeded\n",
       "...          ...        ...\n",
       "12573  succeeded  succeeded\n",
       "20359  succeeded  succeeded\n",
       "7644   succeeded  succeeded\n",
       "2356   succeeded  succeeded\n",
       "17719  succeeded  succeeded\n",
       "\n",
       "[6222 rows x 2 columns]"
      ]
     },
     "execution_count": 543,
     "metadata": {},
     "output_type": "execute_result"
    }
   ],
   "source": [
    "compare_result"
   ]
  },
  {
   "cell_type": "markdown",
   "metadata": {
    "hideCode": false,
    "hidePrompt": false
   },
   "source": [
    ">Although the accuracy is excellent, it predicted index **6831**, whose actual value is *failed* as opposed to *successful*. "
   ]
  },
  {
   "cell_type": "markdown",
   "metadata": {
    "hideCode": false,
    "hidePrompt": false
   },
   "source": [
    "### VI. Neural Networks "
   ]
  },
  {
   "cell_type": "code",
   "execution_count": 550,
   "metadata": {
    "hideCode": false,
    "hidePrompt": false
   },
   "outputs": [],
   "source": [
    "# Neural Networks classifier\n",
    "nn = MLPClassifier(solver='lbfgs', alpha=1e-5,  random_state=1)"
   ]
  },
  {
   "cell_type": "code",
   "execution_count": 551,
   "metadata": {
    "hideCode": false,
    "hidePrompt": false
   },
   "outputs": [
    {
     "name": "stderr",
     "output_type": "stream",
     "text": [
      "C:\\Users\\Ken\\anaconda3\\lib\\site-packages\\sklearn\\neural_network\\_multilayer_perceptron.py:471: ConvergenceWarning: lbfgs failed to converge (status=1):\n",
      "STOP: TOTAL NO. of ITERATIONS REACHED LIMIT.\n",
      "\n",
      "Increase the number of iterations (max_iter) or scale the data as shown in:\n",
      "    https://scikit-learn.org/stable/modules/preprocessing.html\n",
      "  self.n_iter_ = _check_optimize_result(\"lbfgs\", opt_res, self.max_iter)\n"
     ]
    }
   ],
   "source": [
    "# Model\n",
    "nnmodel= nn.fit(X_train,y_train)"
   ]
  },
  {
   "cell_type": "code",
   "execution_count": 552,
   "metadata": {
    "hideCode": false,
    "hidePrompt": false
   },
   "outputs": [
    {
     "name": "stdout",
     "output_type": "stream",
     "text": [
      "Accuracy: 0.9439278087759179\n"
     ]
    }
   ],
   "source": [
    "# Model Score for train dataset\n",
    "print(\"Accuracy:\",nnmodel.score(X_train,y_train))"
   ]
  },
  {
   "cell_type": "code",
   "execution_count": 547,
   "metadata": {
    "hideCode": false,
    "hidePrompt": false
   },
   "outputs": [
    {
     "name": "stdout",
     "output_type": "stream",
     "text": [
      "Accuracy: 0.9318547090967535\n"
     ]
    }
   ],
   "source": [
    "# Model Score for test dataset\n",
    "print(\"Accuracy:\",nnmodel.score(X_test,y_test))"
   ]
  },
  {
   "cell_type": "code",
   "execution_count": 548,
   "metadata": {
    "hideCode": false,
    "hidePrompt": false
   },
   "outputs": [
    {
     "name": "stdout",
     "output_type": "stream",
     "text": [
      "              precision    recall  f1-score   support\n",
      "\n",
      "      failed       0.68      0.24      0.35       485\n",
      "   succeeded       0.94      0.99      0.96      5737\n",
      "\n",
      "    accuracy                           0.93      6222\n",
      "   macro avg       0.81      0.61      0.66      6222\n",
      "weighted avg       0.92      0.93      0.92      6222\n",
      "\n"
     ]
    }
   ],
   "source": [
    "# Neural Networks model prediction and report\n",
    "y_pred = nnmodel.predict(X_test)\n",
    "nn_accuracy = accuracy_score(y_test,y_pred)*100\n",
    "print(classification_report(y_test,y_pred, zero_division=0))"
   ]
  },
  {
   "cell_type": "markdown",
   "metadata": {
    "hideCode": false,
    "hidePrompt": false
   },
   "source": [
    ">The above output shows the performance of the model on testing data. The accuracy and the F1 score is around 0.93 and 0.96 repectively."
   ]
  },
  {
   "cell_type": "code",
   "execution_count": 549,
   "metadata": {
    "hideCode": false,
    "hidePrompt": false
   },
   "outputs": [],
   "source": [
    "#model prediction comparism \n",
    "compare_result=pd.DataFrame()\n",
    "compare_result[\"Actual\"]=y_test\n",
    "compare_result[\"Predicted\"]=nnmodel.predict(X_test)"
   ]
  },
  {
   "cell_type": "code",
   "execution_count": 488,
   "metadata": {
    "hideCode": false,
    "hidePrompt": false
   },
   "outputs": [
    {
     "data": {
      "text/html": [
       "<div>\n",
       "<style scoped>\n",
       "    .dataframe tbody tr th:only-of-type {\n",
       "        vertical-align: middle;\n",
       "    }\n",
       "\n",
       "    .dataframe tbody tr th {\n",
       "        vertical-align: top;\n",
       "    }\n",
       "\n",
       "    .dataframe thead th {\n",
       "        text-align: right;\n",
       "    }\n",
       "</style>\n",
       "<table border=\"1\" class=\"dataframe\">\n",
       "  <thead>\n",
       "    <tr style=\"text-align: right;\">\n",
       "      <th></th>\n",
       "      <th>Actual</th>\n",
       "      <th>Predicted</th>\n",
       "    </tr>\n",
       "  </thead>\n",
       "  <tbody>\n",
       "    <tr>\n",
       "      <th>19094</th>\n",
       "      <td>succeeded</td>\n",
       "      <td>succeeded</td>\n",
       "    </tr>\n",
       "    <tr>\n",
       "      <th>1496</th>\n",
       "      <td>succeeded</td>\n",
       "      <td>succeeded</td>\n",
       "    </tr>\n",
       "    <tr>\n",
       "      <th>4849</th>\n",
       "      <td>succeeded</td>\n",
       "      <td>failed</td>\n",
       "    </tr>\n",
       "    <tr>\n",
       "      <th>6831</th>\n",
       "      <td>failed</td>\n",
       "      <td>failed</td>\n",
       "    </tr>\n",
       "    <tr>\n",
       "      <th>6244</th>\n",
       "      <td>succeeded</td>\n",
       "      <td>succeeded</td>\n",
       "    </tr>\n",
       "    <tr>\n",
       "      <th>...</th>\n",
       "      <td>...</td>\n",
       "      <td>...</td>\n",
       "    </tr>\n",
       "    <tr>\n",
       "      <th>12573</th>\n",
       "      <td>succeeded</td>\n",
       "      <td>succeeded</td>\n",
       "    </tr>\n",
       "    <tr>\n",
       "      <th>20359</th>\n",
       "      <td>succeeded</td>\n",
       "      <td>succeeded</td>\n",
       "    </tr>\n",
       "    <tr>\n",
       "      <th>7644</th>\n",
       "      <td>succeeded</td>\n",
       "      <td>succeeded</td>\n",
       "    </tr>\n",
       "    <tr>\n",
       "      <th>2356</th>\n",
       "      <td>succeeded</td>\n",
       "      <td>succeeded</td>\n",
       "    </tr>\n",
       "    <tr>\n",
       "      <th>17719</th>\n",
       "      <td>succeeded</td>\n",
       "      <td>succeeded</td>\n",
       "    </tr>\n",
       "  </tbody>\n",
       "</table>\n",
       "<p>6222 rows × 2 columns</p>\n",
       "</div>"
      ],
      "text/plain": [
       "          Actual  Predicted\n",
       "19094  succeeded  succeeded\n",
       "1496   succeeded  succeeded\n",
       "4849   succeeded     failed\n",
       "6831      failed     failed\n",
       "6244   succeeded  succeeded\n",
       "...          ...        ...\n",
       "12573  succeeded  succeeded\n",
       "20359  succeeded  succeeded\n",
       "7644   succeeded  succeeded\n",
       "2356   succeeded  succeeded\n",
       "17719  succeeded  succeeded\n",
       "\n",
       "[6222 rows x 2 columns]"
      ]
     },
     "execution_count": 488,
     "metadata": {},
     "output_type": "execute_result"
    }
   ],
   "source": [
    "compare_result"
   ]
  },
  {
   "cell_type": "markdown",
   "metadata": {
    "hideCode": false,
    "hidePrompt": false
   },
   "source": [
    ">Although the accuracy is excellent, it projected index **4849**, which is *succeeded* as *failed*."
   ]
  },
  {
   "cell_type": "markdown",
   "metadata": {
    "hideCode": false,
    "hidePrompt": false
   },
   "source": [
    "# Evaluation of all the models on a bar chart"
   ]
  },
  {
   "cell_type": "code",
   "execution_count": 489,
   "metadata": {
    "hideCode": false,
    "hidePrompt": false
   },
   "outputs": [
    {
     "data": {
      "image/png": "[encoded data removed]",
      "text/plain": [
       "<Figure size 432x288 with 1 Axes>"
      ]
     },
     "metadata": {},
     "output_type": "display_data"
    }
   ],
   "source": [
    "# Bar chart of models with respect to their accuracy \n",
    "fig = plt.figure()\n",
    "ax = fig.add_axes([0,0,1,1])\n",
    "model = ['Logistic Regression', 'Naive Bayes', 'SVM', 'Neural Networks']\n",
    "acc_scores = [log_accuracy, naive_accuracy, svm_accuracy, nn_accuracy]\n",
    "ax.bar(model, acc_scores)\n",
    "ax.set_ylabel('Accuracy %')\n",
    "ax.set_title('Model Accuracy')\n",
    "plt.show()"
   ]
  },
  {
   "cell_type": "markdown",
   "metadata": {
    "hideCode": false,
    "hidePrompt": false
   },
   "source": [
    "> As can be seen from the graph above, Naive Bayes has the lowest prediction accuracy of all the models."
   ]
  }
 ],
 "metadata": {
  "hide_code_all_hidden": false,
  "kernelspec": {
   "display_name": "Python 3",
   "language": "python",
   "name": "python3"
  },
  "language_info": {
   "codemirror_mode": {
    "name": "ipython",
    "version": 3
   },
   "file_extension": ".py",
   "mimetype": "text/x-python",
   "name": "python",
   "nbconvert_exporter": "python",
   "pygments_lexer": "ipython3",
   "version": "3.8.5"
  }
 },
 "nbformat": 4,
 "nbformat_minor": 4
}
